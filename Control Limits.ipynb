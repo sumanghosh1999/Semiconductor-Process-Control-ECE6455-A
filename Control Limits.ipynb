{
 "cells": [
  {
   "cell_type": "code",
   "execution_count": 14,
   "id": "977df3f0",
   "metadata": {},
   "outputs": [],
   "source": [
    "import numpy as np\n",
    "import matplotlib.pyplot as plt"
   ]
  },
  {
   "cell_type": "code",
   "execution_count": null,
   "id": "ac964b07",
   "metadata": {},
   "outputs": [],
   "source": []
  },
  {
   "cell_type": "code",
   "execution_count": 15,
   "id": "8c61fd1a",
   "metadata": {},
   "outputs": [],
   "source": [
    "def UCL(c,alpha,LCL=0):\n",
    "    s=1\n",
    "    UCL=0\n",
    "    while s>alpha:\n",
    "        s=s-((np.exp(-c)*(c**LCL))/np.math.factorial(LCL))\n",
    "        LCL+=1\n",
    "        UCL+=1\n",
    "    return (UCL-1)"
   ]
  },
  {
   "cell_type": "code",
   "execution_count": 16,
   "id": "396cdf6e",
   "metadata": {},
   "outputs": [
    {
     "data": {
      "text/plain": [
       "8"
      ]
     },
     "execution_count": 16,
     "metadata": {},
     "output_type": "execute_result"
    }
   ],
   "source": [
    "UCL(1.5,0.0001)"
   ]
  },
  {
   "cell_type": "code",
   "execution_count": 50,
   "id": "b484142d",
   "metadata": {},
   "outputs": [],
   "source": [
    "def OCC_c(UCL,LCL=0):\n",
    "    c_list=[]\n",
    "    beta_list=[]\n",
    "    for c in range(13):\n",
    "        #c=c/10\n",
    "        beta=0\n",
    "        for i in range(LCL,UCL+1):\n",
    "            beta+=((np.exp(-c)*(c**i))/np.math.factorial(i))\n",
    "        beta_list.append(beta)\n",
    "        c_list.append(c)\n",
    "    plt.plot(c_list,beta_list)\n",
    "    return(c_list,beta_list)"
   ]
  },
  {
   "cell_type": "code",
   "execution_count": 51,
   "id": "5c2cbd3f",
   "metadata": {},
   "outputs": [
    {
     "data": {
      "text/plain": [
       "([0, 1, 2, 3, 4, 5, 6, 7, 8, 9, 10, 11, 12],\n",
       " [1.0,\n",
       "  0.999998874797402,\n",
       "  0.999762552671739,\n",
       "  0.9961970079383241,\n",
       "  0.9786365655120157,\n",
       "  0.9319063652781515,\n",
       "  0.8472374939845614,\n",
       "  0.7290912677380824,\n",
       "  0.5925473414375914,\n",
       "  0.45565260432241883,\n",
       "  0.33281967875071894,\n",
       "  0.23198513316745603,\n",
       "  0.1550277817674629])"
      ]
     },
     "execution_count": 51,
     "metadata": {},
     "output_type": "execute_result"
    },
    {
     "data": {
      "image/png": "[encoded data removed]",
      "text/plain": [
       "<Figure size 640x480 with 1 Axes>"
      ]
     },
     "metadata": {},
     "output_type": "display_data"
    }
   ],
   "source": [
    "OCC_c(8)"
   ]
  },
  {
   "cell_type": "code",
   "execution_count": 52,
   "id": "93dea4dc",
   "metadata": {},
   "outputs": [],
   "source": [
    "def sum_pois(c,UCL,LCL=0):\n",
    "    val=0\n",
    "    for i in range(LCL,UCL+1):\n",
    "        val+=((np.exp(-c)*(c**i))/np.math.factorial(i))\n",
    "    return val"
   ]
  },
  {
   "cell_type": "code",
   "execution_count": 55,
   "id": "7f79b0e2",
   "metadata": {},
   "outputs": [
    {
     "data": {
      "text/plain": [
       "0.9104953483712322"
      ]
     },
     "execution_count": 55,
     "metadata": {},
     "output_type": "execute_result"
    }
   ],
   "source": [
    "sum_pois(12,33)-sum_pois(12,7)"
   ]
  },
  {
   "cell_type": "code",
   "execution_count": null,
   "id": "4bb25f1e",
   "metadata": {},
   "outputs": [],
   "source": []
  },
  {
   "cell_type": "code",
   "execution_count": null,
   "id": "22547daa",
   "metadata": {},
   "outputs": [],
   "source": []
  },
  {
   "cell_type": "code",
   "execution_count": null,
   "id": "d46a7a20",
   "metadata": {},
   "outputs": [],
   "source": []
  }
 ],
 "metadata": {
  "kernelspec": {
   "display_name": "Python 3 (ipykernel)",
   "language": "python",
   "name": "python3"
  },
  "language_info": {
   "codemirror_mode": {
    "name": "ipython",
    "version": 3
   },
   "file_extension": ".py",
   "mimetype": "text/x-python",
   "name": "python",
   "nbconvert_exporter": "python",
   "pygments_lexer": "ipython3",
   "version": "3.9.13"
  }
 },
 "nbformat": 4,
 "nbformat_minor": 5
}
