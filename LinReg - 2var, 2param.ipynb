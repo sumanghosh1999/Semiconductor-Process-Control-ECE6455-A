{
 "cells": [
  {
   "cell_type": "code",
   "execution_count": 1,
   "id": "a7a9a3b3",
   "metadata": {},
   "outputs": [],
   "source": [
    "import numpy as np\n",
    "import scipy"
   ]
  },
  {
   "cell_type": "code",
   "execution_count": null,
   "id": "7f2c279e",
   "metadata": {},
   "outputs": [],
   "source": []
  },
  {
   "cell_type": "code",
   "execution_count": null,
   "id": "1491b744",
   "metadata": {},
   "outputs": [],
   "source": []
  },
  {
   "cell_type": "code",
   "execution_count": null,
   "id": "4917762d",
   "metadata": {},
   "outputs": [],
   "source": []
  },
  {
   "cell_type": "code",
   "execution_count": 2,
   "id": "61ef32dc",
   "metadata": {},
   "outputs": [],
   "source": [
    "def SOS(A):\n",
    "    x=0\n",
    "    for i in A:\n",
    "        x+=i**2\n",
    "    return x"
   ]
  },
  {
   "cell_type": "code",
   "execution_count": 3,
   "id": "43cd0a19",
   "metadata": {},
   "outputs": [],
   "source": [
    "def eprod(A,B):\n",
    "    L=[]\n",
    "    for i in range(len(A)):\n",
    "        L.append(A[i]*B[i])\n",
    "    return(L)"
   ]
  },
  {
   "cell_type": "code",
   "execution_count": null,
   "id": "9ab82e84",
   "metadata": {},
   "outputs": [],
   "source": []
  },
  {
   "cell_type": "code",
   "execution_count": 4,
   "id": "56e7b9f5",
   "metadata": {},
   "outputs": [],
   "source": [
    "#y=b1*x1+b2*x2"
   ]
  },
  {
   "cell_type": "code",
   "execution_count": 5,
   "id": "e098d20b",
   "metadata": {},
   "outputs": [],
   "source": [
    "X=np.transpose([[300,305,310,315],\n",
    "            [525,520,510,500]])\n",
    "Y=np.array([218,215,216,212])\n",
    "n=np.shape(X)[0]\n",
    "p=2                                       #edit manually"
   ]
  },
  {
   "cell_type": "code",
   "execution_count": 6,
   "id": "8b79a424",
   "metadata": {},
   "outputs": [],
   "source": [
    "b=np.matmul(np.transpose(X),X)\n",
    "b=np.matmul(np.linalg.inv(b),np.transpose(X))\n",
    "b=np.matmul(b,Y)"
   ]
  },
  {
   "cell_type": "code",
   "execution_count": 7,
   "id": "12f96edc",
   "metadata": {},
   "outputs": [
    {
     "data": {
      "text/plain": [
       "array([0.18839198, 0.30621639])"
      ]
     },
     "execution_count": 7,
     "metadata": {},
     "output_type": "execute_result"
    }
   ],
   "source": [
    "b"
   ]
  },
  {
   "cell_type": "code",
   "execution_count": 8,
   "id": "a1807914",
   "metadata": {},
   "outputs": [],
   "source": [
    "y_hat=np.matmul(X,b)"
   ]
  },
  {
   "cell_type": "code",
   "execution_count": 9,
   "id": "25320404",
   "metadata": {},
   "outputs": [
    {
     "data": {
      "text/plain": [
       "array([217.28119944, 216.69207737, 214.57187334, 212.45166932])"
      ]
     },
     "execution_count": 9,
     "metadata": {},
     "output_type": "execute_result"
    }
   ],
   "source": [
    "y_hat"
   ]
  },
  {
   "cell_type": "code",
   "execution_count": 10,
   "id": "1bfd1d1c",
   "metadata": {},
   "outputs": [
    {
     "data": {
      "text/plain": [
       "5.6233509952477405"
      ]
     },
     "execution_count": 10,
     "metadata": {},
     "output_type": "execute_result"
    }
   ],
   "source": [
    "SR=SOS(Y-y_hat)\n",
    "SR"
   ]
  },
  {
   "cell_type": "code",
   "execution_count": 11,
   "id": "1c7368c9",
   "metadata": {},
   "outputs": [
    {
     "data": {
      "text/plain": [
       "2.8116754976238703"
      ]
     },
     "execution_count": 11,
     "metadata": {},
     "output_type": "execute_result"
    }
   ],
   "source": [
    "s2_exp=SR/(n-p)\n",
    "s2_exp"
   ]
  },
  {
   "cell_type": "code",
   "execution_count": 12,
   "id": "9065bb56",
   "metadata": {},
   "outputs": [
    {
     "data": {
      "text/plain": [
       "-0.9993240656445055"
      ]
     },
     "execution_count": 12,
     "metadata": {},
     "output_type": "execute_result"
    }
   ],
   "source": [
    "rho=-sum(eprod(X[:,0],X[:,1]))/(np.sqrt(SOS(X[:,0]))*np.sqrt(SOS(X[:,1])))\n",
    "rho"
   ]
  },
  {
   "cell_type": "code",
   "execution_count": 13,
   "id": "5bd47b5d",
   "metadata": {},
   "outputs": [
    {
     "data": {
      "text/plain": [
       "array([[ 1.        , -0.99932407],\n",
       "       [-0.99932407,  1.        ]])"
      ]
     },
     "execution_count": 13,
     "metadata": {},
     "output_type": "execute_result"
    }
   ],
   "source": [
    "corr_mat=np.array([[1,rho],[rho,1]])\n",
    "corr_mat"
   ]
  },
  {
   "cell_type": "code",
   "execution_count": 14,
   "id": "e2dc7f6e",
   "metadata": {},
   "outputs": [
    {
     "name": "stdout",
     "output_type": "stream",
     "text": [
      "V(b1)= 0.005499000303104457\n",
      "SD(b1)= 0.07415524460956525\n",
      "t-ratio for b1= 2.5405078191183548\n",
      "LOS for b1= 0.12625482334616067\n"
     ]
    }
   ],
   "source": [
    "V_b1=s2_exp/((1-rho**2)*SOS(X[:,0]))\n",
    "SD_b1=np.sqrt(V_b1)\n",
    "print(\"V(b1)= {}\".format(V_b1))\n",
    "print(\"SD(b1)= {}\".format(SD_b1))\n",
    "print(\"t-ratio for b1= {}\".format(b[0]/SD_b1))\n",
    "LOS_b1=1-scipy.stats.t.cdf(b[0]/SD_b1, (n-p))\n",
    "print(\"LOS for b1= {}\".format(2*LOS_b1))"
   ]
  },
  {
   "cell_type": "code",
   "execution_count": 15,
   "id": "4fb1f35f",
   "metadata": {},
   "outputs": [
    {
     "name": "stdout",
     "output_type": "stream",
     "text": [
      "V(b2)= 0.0019699815501759465\n",
      "SD(b2)= 0.04438447420186417\n",
      "t-ratio for b2= 6.899178091490448\n",
      "LOS for b2= 0.020369289673785262\n"
     ]
    }
   ],
   "source": [
    "V_b2=s2_exp/((1-rho**2)*SOS(X[:,1]))\n",
    "SD_b2=np.sqrt(V_b2)\n",
    "print(\"V(b2)= {}\".format(V_b2))\n",
    "print(\"SD(b2)= {}\".format(SD_b2))\n",
    "print(\"t-ratio for b2= {}\".format(b[1]/SD_b2))\n",
    "LOS_b2=1-scipy.stats.t.cdf(b[1]/SD_b2, (n-p))\n",
    "print(\"LOS for b2= {}\".format(2*LOS_b2))"
   ]
  },
  {
   "cell_type": "code",
   "execution_count": 16,
   "id": "a51b7f1c",
   "metadata": {},
   "outputs": [
    {
     "name": "stdout",
     "output_type": "stream",
     "text": [
      "Model: DOF= 2 SM= 185343.37664893852 SM2= 92671.68832446926\n",
      "Error: DOF= 2 SR= 5.6233509952477405 SR2= 2.8116754976238703\n",
      "Total: DOF= 4 ST= 185348.99999993376\n",
      "F-ratio: 32959.595942983295\n"
     ]
    }
   ],
   "source": [
    "SM=SOS(y_hat)\n",
    "print(\"Model: DOF= {} SM= {} SM2= {}\".format(p,SM,SM/p))\n",
    "print(\"Error: DOF= {} SR= {} SR2= {}\".format(n-p,SR,SR/(n-p)))\n",
    "print(\"Total: DOF= {} ST= {}\".format(n,SM+SR))\n",
    "print(\"F-ratio: {}\".format((SM/p)/(SR/(n-p))))"
   ]
  },
  {
   "cell_type": "code",
   "execution_count": null,
   "id": "aa4986c3",
   "metadata": {},
   "outputs": [],
   "source": []
  },
  {
   "cell_type": "code",
   "execution_count": null,
   "id": "b7466c56",
   "metadata": {},
   "outputs": [],
   "source": []
  },
  {
   "cell_type": "code",
   "execution_count": null,
   "id": "b35b1da4",
   "metadata": {},
   "outputs": [],
   "source": []
  },
  {
   "cell_type": "code",
   "execution_count": null,
   "id": "14c624fa",
   "metadata": {},
   "outputs": [],
   "source": []
  },
  {
   "cell_type": "code",
   "execution_count": null,
   "id": "435c6463",
   "metadata": {},
   "outputs": [],
   "source": []
  },
  {
   "cell_type": "code",
   "execution_count": null,
   "id": "7cd8ac2b",
   "metadata": {},
   "outputs": [],
   "source": []
  }
 ],
 "metadata": {
  "kernelspec": {
   "display_name": "Python 3 (ipykernel)",
   "language": "python",
   "name": "python3"
  },
  "language_info": {
   "codemirror_mode": {
    "name": "ipython",
    "version": 3
   },
   "file_extension": ".py",
   "mimetype": "text/x-python",
   "name": "python",
   "nbconvert_exporter": "python",
   "pygments_lexer": "ipython3",
   "version": "3.9.13"
  }
 },
 "nbformat": 4,
 "nbformat_minor": 5
}
