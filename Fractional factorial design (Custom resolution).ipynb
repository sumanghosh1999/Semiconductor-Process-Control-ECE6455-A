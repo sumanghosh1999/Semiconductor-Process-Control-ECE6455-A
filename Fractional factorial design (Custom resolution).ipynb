{
 "cells": [
  {
   "cell_type": "code",
   "execution_count": 1,
   "id": "53e21a21",
   "metadata": {},
   "outputs": [],
   "source": [
    "import numpy as np\n",
    "from itertools import product,combinations\n",
    "import matplotlib.pyplot as plt\n",
    "from math import log\n",
    "import scipy.stats"
   ]
  },
  {
   "cell_type": "code",
   "execution_count": 2,
   "id": "3b5d26be",
   "metadata": {},
   "outputs": [],
   "source": [
    "def design_matrix(n):\n",
    "    D=[]\n",
    "    for i in product([-1,+1],repeat=n):\n",
    "        D.append(list(i))\n",
    "    return D"
   ]
  },
  {
   "cell_type": "code",
   "execution_count": 3,
   "id": "ece86945",
   "metadata": {},
   "outputs": [],
   "source": [
    "def effect_matrix(dm):\n",
    "    (r,c)=np.shape(dm)\n",
    "    x=''\n",
    "    for i in range(c):\n",
    "        x+=str(i)\n",
    "    labels=[]\n",
    "    for i in range(c-1):\n",
    "        for j in combinations(x,i+2):\n",
    "            labels.append(list(map(int,j)))\n",
    "    for i in range(len(labels)):\n",
    "        I=np.full(r,1)\n",
    "        for j in labels[i]:\n",
    "            I=I*dm[:,j]\n",
    "        dm=np.insert(dm,np.shape(dm)[1],I,1)\n",
    "    return (dm,labels)"
   ]
  },
  {
   "cell_type": "code",
   "execution_count": 4,
   "id": "3a5312a1",
   "metadata": {},
   "outputs": [],
   "source": [
    "def effects(e,R):\n",
    "    avg=np.mean(R,axis=0)\n",
    "    e=e.astype('float64')\n",
    "    for i in range(len(e)):\n",
    "        for j in range(len(e[i])):\n",
    "            e[i][j]=e[i][j]*avg[i]\n",
    "    return e"
   ]
  },
  {
   "cell_type": "code",
   "execution_count": 5,
   "id": "b3d96266",
   "metadata": {},
   "outputs": [],
   "source": [
    "def eff_det(E,labels,R):\n",
    "    AVG=np.mean(R)\n",
    "    e=[(\"AVG\",AVG)]\n",
    "    labels2=[]\n",
    "    for i in labels[-1]:\n",
    "        labels2.append([i])\n",
    "    labels2.extend(labels)\n",
    "    (r,c)=np.shape(E)\n",
    "    for i in range(c):\n",
    "        e.append((l2str(labels2[i]),np.sum(E[:,i])/(len(E)/2)))\n",
    "    if len(R)==2:\n",
    "        N=2*len(R[0])\n",
    "        s2=np.sum((R[0]-R[1])**2)/(2*len(R[0]))\n",
    "        V_eff=(4/N)*s2\n",
    "        sd_eff=np.sqrt(V_eff)\n",
    "        V_ave=(s2/N)\n",
    "        sd_ave=np.sqrt(V_ave)\n",
    "        return (e,sd_eff,sd_ave)\n",
    "    else:\n",
    "        return(e)"
   ]
  },
  {
   "cell_type": "code",
   "execution_count": 6,
   "id": "8fe94dd8",
   "metadata": {},
   "outputs": [],
   "source": [
    "def significants(eff_ints,sd_ave,sd_eff,DOF,a):\n",
    "    t_crit=scipy.stats.t.ppf(q=1-a,df=DOF)\n",
    "    sig=[]\n",
    "    if eff_ints[0][1]/sd_ave>=t_crit:\n",
    "        sig.append(eff_ints[0])\n",
    "    for i in range(1,len(eff_ints)):\n",
    "        if eff_ints[i][1]/sd_eff>=t_crit:\n",
    "            sig.append(eff_ints[i])\n",
    "    return sig"
   ]
  },
  {
   "cell_type": "code",
   "execution_count": 7,
   "id": "0f311b02",
   "metadata": {},
   "outputs": [],
   "source": [
    "def seq_eval(sig,seq=''): #,extremes):\n",
    "    if seq:\n",
    "        val=sig[0][1]\n",
    "        for i in range(len(seq)):\n",
    "            if seq[i]==\"+\":\n",
    "                val+=(sig[i+1][1]/2)*1 #extremes[i][1]\n",
    "            elif seq[i]==\"-\":\n",
    "                val+=(sig[i+1][1]/2)*(-1) #extremes[i][0]\n",
    "    return val "
   ]
  },
  {
   "cell_type": "code",
   "execution_count": 8,
   "id": "e77b4bcc",
   "metadata": {},
   "outputs": [],
   "source": [
    "def model_eval(sig,seq_list): #,extremes):\n",
    "    L=[]\n",
    "    for seq in seq_list:\n",
    "        L.append((seq,seq_eval(sig,seq)))\n",
    "    return L  "
   ]
  },
  {
   "cell_type": "code",
   "execution_count": 9,
   "id": "4ed850ef",
   "metadata": {},
   "outputs": [],
   "source": [
    "#all main effects considered\n",
    "def model(dm,eff_ints,order=1): #,extremes):\n",
    "    n=log(len(dm),2)\n",
    "    est=[]\n",
    "    for i in range(len(dm)):\n",
    "        val=eff_ints[0][1]\n",
    "        for j in range(len(dm[i])):\n",
    "            val+=((eff_ints[j+1][1])/2)*dm[i][j] #extremes[j][1/0]\n",
    "        est.append(val)\n",
    "    return (est)"
   ]
  },
  {
   "cell_type": "code",
   "execution_count": 10,
   "id": "b6482127",
   "metadata": {},
   "outputs": [],
   "source": [
    "def resi(A,R):\n",
    "    avg=np.mean(R,axis=0)\n",
    "    res=[]\n",
    "    for i in range(len(avg)):\n",
    "        res.append(avg[i]-A[i])\n",
    "    return res"
   ]
  },
  {
   "cell_type": "code",
   "execution_count": 11,
   "id": "d18117c0",
   "metadata": {},
   "outputs": [],
   "source": [
    "def prob_plot(A,label,title=''):\n",
    "    m=len(A)\n",
    "    Pi=[(100/m)*(i-0.5) for i in range(1,m+1)]\n",
    "    A.sort()\n",
    "    plt.scatter(A,Pi)\n",
    "    plt.axvline(x=0, c=\"black\")\n",
    "    plt.axhline(y=0, c=\"black\")\n",
    "    plt.ylabel(\"Probability\")\n",
    "    plt.xlabel(label)\n",
    "    plt.title(label+\" Vs \"+ \"Probability\"+title)"
   ]
  },
  {
   "cell_type": "code",
   "execution_count": null,
   "id": "de038029",
   "metadata": {},
   "outputs": [],
   "source": []
  },
  {
   "cell_type": "code",
   "execution_count": null,
   "id": "3765f6a0",
   "metadata": {},
   "outputs": [],
   "source": []
  },
  {
   "cell_type": "code",
   "execution_count": 12,
   "id": "3ba4996c",
   "metadata": {},
   "outputs": [],
   "source": [
    "def l2str(A):\n",
    "    x=''\n",
    "    for i in A:\n",
    "        x+=str(i)\n",
    "    return x"
   ]
  },
  {
   "cell_type": "code",
   "execution_count": 13,
   "id": "e169f840",
   "metadata": {},
   "outputs": [],
   "source": [
    "def dm2strL(dm):\n",
    "    L=[]\n",
    "    for i in range(len(dm)):\n",
    "        x=''\n",
    "        for j in range(len(dm[i])):\n",
    "            if dm[i][j]==1:\n",
    "                x+='+'\n",
    "            elif dm[i][j]==-1:\n",
    "                x+='-'\n",
    "        L.append(x)\n",
    "    return (L)"
   ]
  },
  {
   "cell_type": "code",
   "execution_count": null,
   "id": "483b247c",
   "metadata": {},
   "outputs": [],
   "source": []
  },
  {
   "cell_type": "code",
   "execution_count": null,
   "id": "71532e81",
   "metadata": {},
   "outputs": [],
   "source": []
  },
  {
   "cell_type": "code",
   "execution_count": 14,
   "id": "293bda0a",
   "metadata": {
    "scrolled": true
   },
   "outputs": [
    {
     "data": {
      "text/plain": [
       "[('AVG', 192.875),\n",
       " ('0', -115.75),\n",
       " ('1', 44.25),\n",
       " ('2', -54.25),\n",
       " ('3', 55.25),\n",
       " ('4', -40.75),\n",
       " ('01', -55.25),\n",
       " ('02', 37.25),\n",
       " ('03', -44.25),\n",
       " ('04', 70.75),\n",
       " ('12', -40.75),\n",
       " ('13', 115.75),\n",
       " ('14', -54.25),\n",
       " ('23', -70.75),\n",
       " ('24', 44.25),\n",
       " ('34', -37.25),\n",
       " ('012', 70.75),\n",
       " ('013', -385.75),\n",
       " ('014', 37.25),\n",
       " ('023', 40.75),\n",
       " ('024', -55.25),\n",
       " ('034', 54.25),\n",
       " ('123', -37.25),\n",
       " ('124', 385.75),\n",
       " ('134', -70.75),\n",
       " ('234', 115.75),\n",
       " ('0123', 54.25),\n",
       " ('0124', -115.75),\n",
       " ('0134', 40.75),\n",
       " ('0234', -385.75),\n",
       " ('1234', 55.25),\n",
       " ('01234', -44.25)]"
      ]
     },
     "execution_count": 14,
     "metadata": {},
     "output_type": "execute_result"
    }
   ],
   "source": [
    "R=np.array([[191,164,402,123,\n",
    "             211,117,199,136]])\n",
    "extremes=[(0.8,1.2),(450,550),(125,200),(275,300)]\n",
    "n=3\n",
    "A=design_matrix(n)\n",
    "A=np.array(A)\n",
    "A=np.flip(A,1)\n",
    "#Generators definition (edit manually)\n",
    "A=np.insert(A,np.shape(A)[1],(-1)*(A[:,(1)-1]*A[:,(2)-1]),1)\n",
    "A=np.insert(A,np.shape(A)[1],(+1)*(A[:,(2)-1]*A[:,(3)-1]),1)\n",
    "\n",
    "E=effect_matrix(A)\n",
    "E1=effects(E[0],R)\n",
    "eff_ints=eff_det(E1,E[1],R)\n",
    "eff_ints"
   ]
  },
  {
   "cell_type": "code",
   "execution_count": null,
   "id": "7f42d793",
   "metadata": {},
   "outputs": [],
   "source": []
  },
  {
   "cell_type": "code",
   "execution_count": null,
   "id": "df7940c6",
   "metadata": {},
   "outputs": [],
   "source": []
  },
  {
   "cell_type": "code",
   "execution_count": null,
   "id": "17db54e3",
   "metadata": {},
   "outputs": [],
   "source": []
  },
  {
   "cell_type": "code",
   "execution_count": 15,
   "id": "772efa74",
   "metadata": {},
   "outputs": [
    {
     "data": {
      "text/plain": [
       "[('02', 37.25),\n",
       " ('34', -37.25),\n",
       " ('014', 37.25),\n",
       " ('123', -37.25),\n",
       " ('4', -40.75),\n",
       " ('12', -40.75),\n",
       " ('023', 40.75),\n",
       " ('0134', 40.75),\n",
       " ('1', 44.25),\n",
       " ('03', -44.25),\n",
       " ('24', 44.25),\n",
       " ('01234', -44.25),\n",
       " ('2', -54.25),\n",
       " ('14', -54.25),\n",
       " ('034', 54.25),\n",
       " ('0123', 54.25),\n",
       " ('3', 55.25),\n",
       " ('01', -55.25),\n",
       " ('024', -55.25),\n",
       " ('1234', 55.25),\n",
       " ('04', 70.75),\n",
       " ('23', -70.75),\n",
       " ('012', 70.75),\n",
       " ('134', -70.75),\n",
       " ('0', -115.75),\n",
       " ('13', 115.75),\n",
       " ('234', 115.75),\n",
       " ('0124', -115.75),\n",
       " ('AVG', 192.875),\n",
       " ('013', -385.75),\n",
       " ('124', 385.75),\n",
       " ('0234', -385.75)]"
      ]
     },
     "execution_count": 15,
     "metadata": {},
     "output_type": "execute_result"
    }
   ],
   "source": [
    "K=[]\n",
    "for i in eff_ints:\n",
    "    K.append(i)\n",
    "K.sort(key = lambda x: abs(x[1]))\n",
    "K"
   ]
  },
  {
   "cell_type": "code",
   "execution_count": 16,
   "id": "bd55223d",
   "metadata": {},
   "outputs": [],
   "source": [
    "index=[0,4,8,12,16,20,24]"
   ]
  },
  {
   "cell_type": "code",
   "execution_count": 17,
   "id": "6699472b",
   "metadata": {},
   "outputs": [
    {
     "name": "stdout",
     "output_type": "stream",
     "text": [
      "s_effect:  64.81339973889878\n",
      "s_exp:  91.65998893425949\n"
     ]
    }
   ],
   "source": [
    "sum=0\n",
    "for i in index:\n",
    "    sum+=(K[i][1])**2\n",
    "s2effect=sum/len(index)\n",
    "s_effect=np.sqrt(s2effect)\n",
    "s2exp=((len(R[0]))/4)*s2effect\n",
    "s_exp=np.sqrt(s2exp)\n",
    "print(\"s_effect: \",s_effect)\n",
    "print(\"s_exp: \",s_exp)"
   ]
  },
  {
   "cell_type": "code",
   "execution_count": null,
   "id": "5ccd224d",
   "metadata": {},
   "outputs": [],
   "source": []
  },
  {
   "cell_type": "code",
   "execution_count": 18,
   "id": "c22c6f8f",
   "metadata": {},
   "outputs": [
    {
     "data": {
      "image/png": "[encoded data removed]",
      "text/plain": [
       "<Figure size 640x480 with 1 Axes>"
      ]
     },
     "metadata": {},
     "output_type": "display_data"
    }
   ],
   "source": [
    "prob_plot([eff_ints[i][1] for i in range(1,len(eff_ints))],label=\"Effects\")"
   ]
  },
  {
   "cell_type": "code",
   "execution_count": null,
   "id": "767cb114",
   "metadata": {},
   "outputs": [],
   "source": []
  },
  {
   "cell_type": "code",
   "execution_count": 19,
   "id": "da24025b",
   "metadata": {},
   "outputs": [],
   "source": [
    "def remstr(x,y):\n",
    "    for i in y:\n",
    "        if i in x:\n",
    "            x=x.replace(i,'')\n",
    "        elif i not in x:\n",
    "            x=x+i\n",
    "    L=list(x)\n",
    "    L.sort()\n",
    "    return ''.join(L)"
   ]
  },
  {
   "cell_type": "code",
   "execution_count": 20,
   "id": "d47d0e24",
   "metadata": {},
   "outputs": [],
   "source": [
    "def confounding(def_rel,res):\n",
    "    L=def_rel.split(\"=\")\n",
    "    lhs=''\n",
    "    rhs=L[1:]\n",
    "    mul=[]\n",
    "    for i in range(1,len(res)+1):\n",
    "        for j in combinations(res,i):\n",
    "            mul.append(''.join(j))\n",
    "    C=[]\n",
    "    C.append(def_rel)\n",
    "    for k in range(len(mul)):\n",
    "        x=mul[k]+\"=\"\n",
    "        for j in rhs:\n",
    "            x+=(remstr(j,mul[k]))\n",
    "            x+=\"=\"\n",
    "        C.append(x.rstrip(\"=\"))\n",
    "    return C  "
   ]
  },
  {
   "cell_type": "code",
   "execution_count": 21,
   "id": "bc1dfaa1",
   "metadata": {},
   "outputs": [],
   "source": [
    "#QUIZ-5"
   ]
  },
  {
   "cell_type": "code",
   "execution_count": 22,
   "id": "79521015",
   "metadata": {},
   "outputs": [
    {
     "data": {
      "text/plain": [
       "['I=ABD=ABCE=DCE',\n",
       " 'A=BD=BCE=ACDE',\n",
       " 'B=AD=ACE=BCDE',\n",
       " 'C=ABCD=ABE=DE',\n",
       " 'AB=D=CE=ABCDE',\n",
       " 'AC=BCD=BE=ADE',\n",
       " 'BC=ACD=AE=BDE',\n",
       " 'ABC=CD=E=ABDE']"
      ]
     },
     "execution_count": 22,
     "metadata": {},
     "output_type": "execute_result"
    }
   ],
   "source": [
    "confounding('I=ABD=ABCE=DCE','ABC')"
   ]
  },
  {
   "cell_type": "code",
   "execution_count": 23,
   "id": "066e9faa",
   "metadata": {},
   "outputs": [
    {
     "data": {
      "image/png": "[encoded data removed]",
      "text/plain": [
       "<Figure size 640x480 with 1 Axes>"
      ]
     },
     "metadata": {},
     "output_type": "display_data"
    }
   ],
   "source": [
    "A=[164,-8,-1,35,22,-3,2,90]\n",
    "prob_plot(A,label=\"Effects\")"
   ]
  },
  {
   "cell_type": "code",
   "execution_count": 24,
   "id": "dac1e99d",
   "metadata": {},
   "outputs": [],
   "source": [
    "B=[2,-3,-1,-8] #insignificant effects"
   ]
  },
  {
   "cell_type": "code",
   "execution_count": 25,
   "id": "96c6e0ac",
   "metadata": {},
   "outputs": [
    {
     "name": "stdout",
     "output_type": "stream",
     "text": [
      "s_effect:  4.415880433163924\n",
      "s_exp:  6.244997998398398\n"
     ]
    }
   ],
   "source": [
    "sum=0\n",
    "for i in range(len(B)):\n",
    "    sum+=(B[i])**2\n",
    "s2effect=sum/len(B)\n",
    "s_effect=np.sqrt(s2effect)\n",
    "s2exp=((8)/4)*s2effect\n",
    "s_exp=np.sqrt(s2exp)\n",
    "print(\"s_effect: \",s_effect)\n",
    "print(\"s_exp: \",s_exp)"
   ]
  },
  {
   "cell_type": "code",
   "execution_count": null,
   "id": "b26cc854",
   "metadata": {},
   "outputs": [],
   "source": []
  },
  {
   "cell_type": "code",
   "execution_count": null,
   "id": "b490a3be",
   "metadata": {},
   "outputs": [],
   "source": []
  },
  {
   "cell_type": "code",
   "execution_count": null,
   "id": "842ae0b8",
   "metadata": {},
   "outputs": [],
   "source": []
  },
  {
   "cell_type": "code",
   "execution_count": null,
   "id": "3503e8fe",
   "metadata": {},
   "outputs": [],
   "source": []
  },
  {
   "cell_type": "code",
   "execution_count": null,
   "id": "c875982f",
   "metadata": {},
   "outputs": [],
   "source": []
  }
 ],
 "metadata": {
  "kernelspec": {
   "display_name": "Python 3 (ipykernel)",
   "language": "python",
   "name": "python3"
  },
  "language_info": {
   "codemirror_mode": {
    "name": "ipython",
    "version": 3
   },
   "file_extension": ".py",
   "mimetype": "text/x-python",
   "name": "python",
   "nbconvert_exporter": "python",
   "pygments_lexer": "ipython3",
   "version": "3.9.13"
  }
 },
 "nbformat": 4,
 "nbformat_minor": 5
}
