{
 "cells": [
  {
   "cell_type": "code",
   "execution_count": 1,
   "id": "4495d0ab",
   "metadata": {},
   "outputs": [],
   "source": [
    "import numpy as np\n",
    "from itertools import product,combinations\n",
    "import matplotlib.pyplot as plt\n",
    "from math import log\n",
    "import scipy.stats"
   ]
  },
  {
   "cell_type": "code",
   "execution_count": 2,
   "id": "1da30ef3",
   "metadata": {},
   "outputs": [],
   "source": [
    "def design_matrix(n):\n",
    "    D=[]\n",
    "    for i in product([-1,+1],repeat=n):\n",
    "        D.append(list(i))\n",
    "    return D"
   ]
  },
  {
   "cell_type": "code",
   "execution_count": 3,
   "id": "e7cb9cab",
   "metadata": {},
   "outputs": [],
   "source": [
    "def effect_matrix(d):\n",
    "    x2=np.flip(d,1)\n",
    "    X=[]\n",
    "    index=[]\n",
    "    for i in range(len(x2)):\n",
    "        if np.product(x2[i][:len(x2[i])-1])==x2[i][-1]:\n",
    "            X.append(x2[i])\n",
    "            index.append(i)\n",
    "    dm=np.array(X)\n",
    "    (r,c)=np.shape(dm)\n",
    "    x=''\n",
    "    for i in range(c):\n",
    "        x+=str(i)\n",
    "    labels=[]\n",
    "    for i in range(c-1):\n",
    "        for j in combinations(x,i+2):\n",
    "            labels.append(list(map(int,j)))\n",
    "    for i in range(len(labels)):\n",
    "        I=np.full(r,1)\n",
    "        for j in labels[i]:\n",
    "            I=I*dm[:,j]\n",
    "        dm=np.insert(dm,np.shape(dm)[1],I,1)\n",
    "    return (dm,labels,index)"
   ]
  },
  {
   "cell_type": "code",
   "execution_count": 4,
   "id": "951f79a7",
   "metadata": {},
   "outputs": [],
   "source": [
    "def effects(e,Res,index):\n",
    "    R=[Res[0][i] for i in index]\n",
    "    avg=np.mean(R,axis=0)\n",
    "    e=e.astype('float64')\n",
    "    for i in range(len(e)):\n",
    "        for j in range(len(e[i])):\n",
    "            e[i][j]=e[i][j]*R[i]\n",
    "    return e"
   ]
  },
  {
   "cell_type": "code",
   "execution_count": 5,
   "id": "336474bd",
   "metadata": {},
   "outputs": [],
   "source": [
    "def eff_det(E,labels,Res,index):\n",
    "    R=[Res[0][i] for i in index]\n",
    "    AVG=np.mean(R)\n",
    "    e=[(\"AVG\",AVG)]\n",
    "    labels2=[]\n",
    "    for i in labels[-1]:\n",
    "        labels2.append([i])\n",
    "    labels2.extend(labels)\n",
    "    (r,c)=np.shape(E)\n",
    "    for i in range(c):\n",
    "        e.append((l2str(labels2[i]),np.sum(E[:,i])/(len(E)/2)))\n",
    "    if len(R)==2:\n",
    "        N=2*len(R[0])\n",
    "        s2=np.sum((R[0]-R[1])**2)/(2*len(R[0]))\n",
    "        V_eff=(4/N)*s2\n",
    "        sd_eff=np.sqrt(V_eff)\n",
    "        V_ave=(s2/N)\n",
    "        sd_ave=np.sqrt(V_ave)\n",
    "        return (e,sd_eff,sd_ave)\n",
    "    else:\n",
    "        return(e)"
   ]
  },
  {
   "cell_type": "code",
   "execution_count": 6,
   "id": "debb461c",
   "metadata": {},
   "outputs": [],
   "source": [
    "def significants(eff_ints,sd_ave,sd_eff,DOF,a):\n",
    "    t_crit=scipy.stats.t.ppf(q=1-a,df=DOF)\n",
    "    sig=[]\n",
    "    if eff_ints[0][1]/sd_ave>=t_crit:\n",
    "        sig.append(eff_ints[0])\n",
    "    for i in range(1,len(eff_ints)):\n",
    "        if eff_ints[i][1]/sd_eff>=t_crit:\n",
    "            sig.append(eff_ints[i])\n",
    "    return sig"
   ]
  },
  {
   "cell_type": "code",
   "execution_count": 7,
   "id": "55e368f8",
   "metadata": {},
   "outputs": [],
   "source": [
    "def seq_eval(sig,seq=''): #,extremes):\n",
    "    if seq:\n",
    "        val=sig[0][1]\n",
    "        for i in range(len(seq)):\n",
    "            if seq[i]==\"+\":\n",
    "                val+=(sig[i+1][1]/2)*1 #extremes[i][1]\n",
    "            elif seq[i]==\"-\":\n",
    "                val+=(sig[i+1][1]/2)*(-1) #extremes[i][0]\n",
    "    return val "
   ]
  },
  {
   "cell_type": "code",
   "execution_count": 8,
   "id": "39d7058b",
   "metadata": {},
   "outputs": [],
   "source": [
    "def model_eval(sig,seq_list): #,extremes):\n",
    "    L=[]\n",
    "    for seq in seq_list:\n",
    "        L.append((seq,seq_eval(sig,seq)))\n",
    "    return L  "
   ]
  },
  {
   "cell_type": "code",
   "execution_count": 9,
   "id": "2363925a",
   "metadata": {},
   "outputs": [],
   "source": [
    "#all main effects considered\n",
    "def model(dm,eff_ints,order=1): #,extremes):\n",
    "    n=log(len(dm),2)\n",
    "    est=[]\n",
    "    for i in range(len(dm)):\n",
    "        val=eff_ints[0][1]\n",
    "        for j in range(len(dm[i])):\n",
    "            val+=((eff_ints[j+1][1])/2)*dm[i][j] #extremes[j][1/0]\n",
    "        est.append(val)\n",
    "    return (est)"
   ]
  },
  {
   "cell_type": "code",
   "execution_count": 10,
   "id": "830157b0",
   "metadata": {},
   "outputs": [],
   "source": [
    "def resi(A,R):\n",
    "    avg=np.mean(R,axis=0)\n",
    "    res=[]\n",
    "    for i in range(len(avg)):\n",
    "        res.append(avg[i]-A[i])\n",
    "    return res"
   ]
  },
  {
   "cell_type": "code",
   "execution_count": 11,
   "id": "31eadf5e",
   "metadata": {},
   "outputs": [],
   "source": [
    "def prob_plot(A,label,title=''):\n",
    "    m=len(A)\n",
    "    Pi=[(100/m)*(i-0.5) for i in range(1,m+1)]\n",
    "    A.sort()\n",
    "    plt.scatter(A,Pi)\n",
    "    plt.axvline(x=0, c=\"black\")\n",
    "    plt.axhline(y=0, c=\"black\")\n",
    "    plt.ylabel(\"Probability\")\n",
    "    plt.xlabel(label)\n",
    "    plt.title(label+\" Vs \"+ \"Probability\"+title)"
   ]
  },
  {
   "cell_type": "code",
   "execution_count": null,
   "id": "3ea10329",
   "metadata": {},
   "outputs": [],
   "source": []
  },
  {
   "cell_type": "code",
   "execution_count": null,
   "id": "b719534b",
   "metadata": {},
   "outputs": [],
   "source": []
  },
  {
   "cell_type": "code",
   "execution_count": 12,
   "id": "2dc17736",
   "metadata": {},
   "outputs": [],
   "source": [
    "def l2str(A):\n",
    "    x=''\n",
    "    for i in A:\n",
    "        x+=str(i)\n",
    "    return x"
   ]
  },
  {
   "cell_type": "code",
   "execution_count": 13,
   "id": "3a7c3154",
   "metadata": {},
   "outputs": [],
   "source": [
    "def dm2strL(dm):\n",
    "    L=[]\n",
    "    for i in range(len(dm)):\n",
    "        x=''\n",
    "        for j in range(len(dm[i])):\n",
    "            if dm[i][j]==1:\n",
    "                x+='+'\n",
    "            elif dm[i][j]==-1:\n",
    "                x+='-'\n",
    "        L.append(x)\n",
    "    return (L)"
   ]
  },
  {
   "cell_type": "code",
   "execution_count": null,
   "id": "e73dedc6",
   "metadata": {},
   "outputs": [],
   "source": []
  },
  {
   "cell_type": "code",
   "execution_count": null,
   "id": "99a20898",
   "metadata": {},
   "outputs": [],
   "source": []
  },
  {
   "cell_type": "code",
   "execution_count": 24,
   "id": "963b2c7d",
   "metadata": {},
   "outputs": [
    {
     "data": {
      "text/plain": [
       "[('AVG', 756.0),\n",
       " ('0', -127.0),\n",
       " ('1', 4.0),\n",
       " ('2', 11.5),\n",
       " ('3', 290.5),\n",
       " ('01', -10.0),\n",
       " ('02', -25.5),\n",
       " ('03', -197.5),\n",
       " ('12', -197.5),\n",
       " ('13', -25.5),\n",
       " ('23', -10.0),\n",
       " ('012', 290.5),\n",
       " ('013', 11.5),\n",
       " ('023', 4.0),\n",
       " ('123', -127.0),\n",
       " ('0123', 1512.0)]"
      ]
     },
     "execution_count": 24,
     "metadata": {},
     "output_type": "execute_result"
    }
   ],
   "source": [
    "R=np.array([[550,669,604,650,\n",
    "             633,642,601,635,\n",
    "            1037,749,1052,868,\n",
    "            1075,860,1063,729]])\n",
    "extremes=[(0.8,1.2),(450,550),(125,200),(275,300)]\n",
    "n=4\n",
    "A=design_matrix(n)\n",
    "A=np.array(A)\n",
    "E=effect_matrix(A)\n",
    "E1=effects(E[0],R,E[-1])\n",
    "eff_ints=eff_det(E1,E[1],R,E[-1])\n",
    "eff_ints"
   ]
  },
  {
   "cell_type": "code",
   "execution_count": 38,
   "id": "bc456bfd",
   "metadata": {},
   "outputs": [
    {
     "data": {
      "text/plain": [
       "[('1', 4.0),\n",
       " ('023', 4.0),\n",
       " ('01', -10.0),\n",
       " ('23', -10.0),\n",
       " ('2', 11.5),\n",
       " ('013', 11.5),\n",
       " ('02', -25.5),\n",
       " ('13', -25.5),\n",
       " ('0', -127.0),\n",
       " ('123', -127.0),\n",
       " ('03', -197.5),\n",
       " ('12', -197.5),\n",
       " ('3', 290.5),\n",
       " ('012', 290.5),\n",
       " ('AVG', 756.0),\n",
       " ('0123', 1512.0)]"
      ]
     },
     "execution_count": 38,
     "metadata": {},
     "output_type": "execute_result"
    }
   ],
   "source": [
    "K=[]\n",
    "for i in eff_ints:\n",
    "    K.append(i)\n",
    "K.sort(key = lambda x: abs(x[1]))\n",
    "K"
   ]
  },
  {
   "cell_type": "code",
   "execution_count": 39,
   "id": "6b93aaaf",
   "metadata": {},
   "outputs": [],
   "source": [
    "index=[0,2,4,6] #insert manually"
   ]
  },
  {
   "cell_type": "code",
   "execution_count": 44,
   "id": "5057dee6",
   "metadata": {},
   "outputs": [
    {
     "name": "stdout",
     "output_type": "stream",
     "text": [
      "s_effect:  14.987494787321863\n",
      "s_exp:  21.195518394226642\n"
     ]
    }
   ],
   "source": [
    "sum=0\n",
    "for i in index:\n",
    "    sum+=(K[i][1])**2\n",
    "s2effect=sum/len(index)\n",
    "s_effect=np.sqrt(s2effect)\n",
    "s2exp=((2**(n-1))/4)*s2effect\n",
    "s_exp=np.sqrt(s2exp)\n",
    "print(\"s_effect: \",s_effect)\n",
    "print(\"s_exp: \",s_exp)"
   ]
  },
  {
   "cell_type": "code",
   "execution_count": null,
   "id": "f2b48da0",
   "metadata": {},
   "outputs": [],
   "source": []
  },
  {
   "cell_type": "code",
   "execution_count": 15,
   "id": "90bea1e4",
   "metadata": {},
   "outputs": [
    {
     "data": {
      "image/png": "[encoded data removed]",
      "text/plain": [
       "<Figure size 640x480 with 1 Axes>"
      ]
     },
     "metadata": {},
     "output_type": "display_data"
    }
   ],
   "source": [
    "prob_plot([eff_ints[i][1] for i in range(1,len(eff_ints))],label=\"Effects\")"
   ]
  },
  {
   "cell_type": "code",
   "execution_count": null,
   "id": "3ac76be2",
   "metadata": {},
   "outputs": [],
   "source": []
  },
  {
   "cell_type": "code",
   "execution_count": null,
   "id": "25433c1f",
   "metadata": {},
   "outputs": [],
   "source": []
  },
  {
   "cell_type": "code",
   "execution_count": null,
   "id": "608b31e1",
   "metadata": {},
   "outputs": [],
   "source": []
  },
  {
   "cell_type": "code",
   "execution_count": null,
   "id": "9f44b3c4",
   "metadata": {},
   "outputs": [],
   "source": []
  },
  {
   "cell_type": "code",
   "execution_count": null,
   "id": "80319eaf",
   "metadata": {},
   "outputs": [],
   "source": []
  },
  {
   "cell_type": "code",
   "execution_count": null,
   "id": "2dd36a50",
   "metadata": {},
   "outputs": [],
   "source": []
  },
  {
   "cell_type": "code",
   "execution_count": null,
   "id": "d49ca79f",
   "metadata": {},
   "outputs": [],
   "source": []
  },
  {
   "cell_type": "code",
   "execution_count": null,
   "id": "5f3dc3b8",
   "metadata": {},
   "outputs": [],
   "source": []
  },
  {
   "cell_type": "code",
   "execution_count": null,
   "id": "24eecdce",
   "metadata": {},
   "outputs": [],
   "source": []
  },
  {
   "cell_type": "code",
   "execution_count": null,
   "id": "48574106",
   "metadata": {},
   "outputs": [],
   "source": []
  },
  {
   "cell_type": "code",
   "execution_count": null,
   "id": "760c6317",
   "metadata": {},
   "outputs": [],
   "source": []
  }
 ],
 "metadata": {
  "kernelspec": {
   "display_name": "Python 3 (ipykernel)",
   "language": "python",
   "name": "python3"
  },
  "language_info": {
   "codemirror_mode": {
    "name": "ipython",
    "version": 3
   },
   "file_extension": ".py",
   "mimetype": "text/x-python",
   "name": "python",
   "nbconvert_exporter": "python",
   "pygments_lexer": "ipython3",
   "version": "3.9.13"
  }
 },
 "nbformat": 4,
 "nbformat_minor": 5
}
