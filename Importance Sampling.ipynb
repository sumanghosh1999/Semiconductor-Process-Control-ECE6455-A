{
 "cells": [
  {
   "cell_type": "code",
   "execution_count": 8,
   "id": "3fbcf898",
   "metadata": {},
   "outputs": [
    {
     "name": "stdout",
     "output_type": "stream",
     "text": [
      "0.014886652683649814\n"
     ]
    }
   ],
   "source": [
    "import numpy as np\n",
    "from scipy.stats import norm\n",
    "\n",
    "def target(x):\n",
    "    return norm.pdf(x)\n",
    "\n",
    "def proposal(x):\n",
    "    return norm.pdf(x, loc=1, scale=2)\n",
    "\n",
    "def importance_sampling(N):\n",
    "    samples = np.random.normal(loc=1, scale=2, size=N)\n",
    "    weights = target(samples) / proposal(samples)\n",
    "    indicator = 3 + 5*samples + 25*samples**2 + 12*samples**3 + samples**4 + 14*samples**5 > 1000\n",
    "    return np.mean(weights * indicator)\n",
    "\n",
    "np.random.seed(69)\n",
    "result = importance_sampling(N=100)\n",
    "print(result)\n"
   ]
  },
  {
   "cell_type": "code",
   "execution_count": null,
   "id": "dddca118",
   "metadata": {},
   "outputs": [],
   "source": []
  }
 ],
 "metadata": {
  "kernelspec": {
   "display_name": "Python 3 (ipykernel)",
   "language": "python",
   "name": "python3"
  },
  "language_info": {
   "codemirror_mode": {
    "name": "ipython",
    "version": 3
   },
   "file_extension": ".py",
   "mimetype": "text/x-python",
   "name": "python",
   "nbconvert_exporter": "python",
   "pygments_lexer": "ipython3",
   "version": "3.9.13"
  }
 },
 "nbformat": 4,
 "nbformat_minor": 5
}
