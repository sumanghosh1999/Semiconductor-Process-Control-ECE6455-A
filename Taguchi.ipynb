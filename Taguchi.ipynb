{
 "cells": [
  {
   "cell_type": "code",
   "execution_count": 1,
   "id": "e95c2393",
   "metadata": {},
   "outputs": [],
   "source": [
    "import math\n",
    "import numpy as np\n",
    "from tabulate import tabulate\n",
    "import matplotlib.pyplot as plt\n",
    "import scipy.stats"
   ]
  },
  {
   "cell_type": "markdown",
   "id": "ea0e1a50",
   "metadata": {},
   "source": [
    "### Functions"
   ]
  },
  {
   "cell_type": "code",
   "execution_count": 2,
   "id": "a81a22d5",
   "metadata": {},
   "outputs": [],
   "source": [
    "def L18():\n",
    "    l18=np.array([[1,1,1,1,1,1,1,1],\n",
    "                   [1,1,2,2,2,2,2,2],\n",
    "                   [1,1,3,3,3,3,3,3],\n",
    "                   [1,2,1,1,2,2,3,3],\n",
    "                   [1,2,2,2,3,3,1,1],\n",
    "                   [1,2,3,3,1,1,2,2],\n",
    "                   [1,3,1,2,1,3,2,3],\n",
    "                   [1,3,2,3,2,1,3,1],\n",
    "                   [1,3,3,1,3,2,1,2],\n",
    "                   [2,1,1,3,3,2,2,1],\n",
    "                   [2,1,2,1,1,3,3,2],\n",
    "                   [2,1,3,2,2,1,1,3],\n",
    "                   [2,2,1,2,3,1,3,2],\n",
    "                   [2,2,2,3,2,2,1,3],\n",
    "                   [2,2,3,1,2,3,2,1],\n",
    "                   [2,3,1,3,2,3,1,2],\n",
    "                   [2,3,2,1,3,1,2,3],\n",
    "                   [2,3,3,2,1,2,3,1]])\n",
    "    return(l18)"
   ]
  },
  {
   "cell_type": "code",
   "execution_count": 3,
   "id": "8d0c621b",
   "metadata": {},
   "outputs": [],
   "source": [
    "#manually change orthogonal array\n",
    "def Lnew():\n",
    "    lnew=np.array([[1,1,1],\n",
    "                   [1,2,2],\n",
    "                   [1,3,3],\n",
    "                   [2,1,2],\n",
    "                   [2,2,3],\n",
    "                   [2,3,1],\n",
    "                   [3,1,3],\n",
    "                   [3,2,1],\n",
    "                   [3,3,2]])\n",
    "    return(lnew)"
   ]
  },
  {
   "cell_type": "code",
   "execution_count": 4,
   "id": "5f33dff1",
   "metadata": {},
   "outputs": [],
   "source": [
    "def SNR1(Y):\n",
    "    #eta\n",
    "    #surface defects\n",
    "    s=0\n",
    "    I,J=np.shape(Y)\n",
    "    s=0\n",
    "    for i in range(I):\n",
    "        for j in range(J):\n",
    "            s+=T[i][j]\n",
    "    return(-10*math.log(s,10))"
   ]
  },
  {
   "cell_type": "code",
   "execution_count": 5,
   "id": "e1e9d25b",
   "metadata": {},
   "outputs": [],
   "source": [
    "def SNR2(T):\n",
    "    #eta'\n",
    "    #thickness\n",
    "    I,J=np.shape(T)\n",
    "    s=0\n",
    "    for i in range(I):\n",
    "        for j in range(J):\n",
    "            s+=T[i][j]\n",
    "    mu=(1/(I*J))*s\n",
    "    mu2=(mu)**2\n",
    "    sig2=0\n",
    "    for i in range(I):\n",
    "        for j in range(J):\n",
    "            s+=(T[i][j]-mu)**2\n",
    "    sig2=(1/(I*J-1))*sig2\n",
    "    return(10*math.log(mu2/sig2,10))"
   ]
  },
  {
   "cell_type": "code",
   "execution_count": 6,
   "id": "c61b08ed",
   "metadata": {},
   "outputs": [],
   "source": [
    "def SNR3(R):\n",
    "    #eta\"\n",
    "    #deposition rate\n",
    "    res=[]\n",
    "    for i in R:\n",
    "        res.append(20*math.log(i,10))\n",
    "    return(res)"
   ]
  },
  {
   "cell_type": "code",
   "execution_count": 7,
   "id": "c2002036",
   "metadata": {},
   "outputs": [],
   "source": [
    "def effect_index(A,F):\n",
    "    res=[]\n",
    "    for i in range(len(F)):\n",
    "        if F[i]!=0:\n",
    "            #D=[]\n",
    "            for j in set(A[:,i]):\n",
    "                x=[F[i]+str(j),np.where(A[:,i]==j)]\n",
    "                res.append(x)\n",
    "            #res.append(D)\n",
    "    return(res)"
   ]
  },
  {
   "cell_type": "markdown",
   "id": "79a7e089",
   "metadata": {},
   "source": [
    "### Thickness Uniformity"
   ]
  },
  {
   "cell_type": "code",
   "execution_count": 8,
   "id": "68da3d91",
   "metadata": {},
   "outputs": [
    {
     "data": {
      "text/plain": [
       "[('A1', 44.0),\n",
       " ('A2', 41.0),\n",
       " ('A3', 38.0),\n",
       " ('B1', 44.333333333333336),\n",
       " ('B2', 41.333333333333336),\n",
       " ('B3', 37.333333333333336),\n",
       " ('C1', 40.666666666666664),\n",
       " ('C2', 40.666666666666664),\n",
       " ('C3', 41.666666666666664)]"
      ]
     },
     "execution_count": 8,
     "metadata": {},
     "output_type": "execute_result"
    }
   ],
   "source": [
    "F=['A','B','C'] #input manually\n",
    "A=Lnew()\n",
    "n2=[46,44,42,45,41,37,42,39,33] #input manually\n",
    "E=effect_index(A,F)\n",
    "m_list=[]\n",
    "for i in range(len(E)):\n",
    "    n=0\n",
    "    for j in E[i][1][0]:\n",
    "        n+=n2[j]\n",
    "    n/=len(E[i][1][0])\n",
    "    m_list.append((E[i][0],n))\n",
    "m_list"
   ]
  },
  {
   "cell_type": "code",
   "execution_count": 9,
   "id": "98bcce0a",
   "metadata": {},
   "outputs": [
    {
     "data": {
      "text/plain": [
       "41.0"
      ]
     },
     "execution_count": 9,
     "metadata": {},
     "output_type": "execute_result"
    }
   ],
   "source": [
    "m=np.mean(n2)\n",
    "m"
   ]
  },
  {
   "cell_type": "code",
   "execution_count": 10,
   "id": "43ed80ed",
   "metadata": {},
   "outputs": [
    {
     "data": {
      "text/plain": [
       "15265"
      ]
     },
     "execution_count": 10,
     "metadata": {},
     "output_type": "execute_result"
    }
   ],
   "source": [
    "SS_gtot=0\n",
    "for i in n2:\n",
    "    SS_gtot+=i**2\n",
    "SS_gtot"
   ]
  },
  {
   "cell_type": "code",
   "execution_count": 11,
   "id": "e72a0bb7",
   "metadata": {},
   "outputs": [
    {
     "data": {
      "text/plain": [
       "30258.0"
      ]
     },
     "execution_count": 11,
     "metadata": {},
     "output_type": "execute_result"
    }
   ],
   "source": [
    "SS_mean=18*(m**2)\n",
    "SS_mean"
   ]
  },
  {
   "cell_type": "code",
   "execution_count": 12,
   "id": "d951cfb2",
   "metadata": {},
   "outputs": [
    {
     "data": {
      "text/plain": [
       "136.0"
      ]
     },
     "execution_count": 12,
     "metadata": {},
     "output_type": "execute_result"
    }
   ],
   "source": [
    "SS_tot=0\n",
    "for i in n2:\n",
    "    SS_tot+=(i-m)**2\n",
    "SS_tot"
   ]
  },
  {
   "cell_type": "code",
   "execution_count": 13,
   "id": "94e5f92d",
   "metadata": {},
   "outputs": [
    {
     "data": {
      "text/plain": [
       "{'A': 54.0, 'B': 74.0, 'C': 2.0}"
      ]
     },
     "execution_count": 13,
     "metadata": {},
     "output_type": "execute_result"
    }
   ],
   "source": [
    "SS_effect={}\n",
    "for i in range(len(F)):\n",
    "    if F[i]!=0:\n",
    "        SS_effect[F[i]]=0\n",
    "        for j in range(len(m_list)):\n",
    "            if m_list[j][0].startswith(F[i]):\n",
    "                SS_effect[F[i]]+=(m_list[j][1]-m)**2\n",
    "for j in SS_effect.keys():\n",
    "    SS_effect[j]*=3         #change\n",
    "SS_effect"
   ]
  },
  {
   "cell_type": "code",
   "execution_count": 14,
   "id": "a7931f9d",
   "metadata": {
    "scrolled": true
   },
   "outputs": [
    {
     "data": {
      "text/plain": [
       "6.0"
      ]
     },
     "execution_count": 14,
     "metadata": {},
     "output_type": "execute_result"
    }
   ],
   "source": [
    "SS_error=SS_tot-sum(SS_effect.values())\n",
    "SS_error"
   ]
  },
  {
   "cell_type": "code",
   "execution_count": 15,
   "id": "6ca20586",
   "metadata": {
    "scrolled": true
   },
   "outputs": [
    {
     "data": {
      "text/plain": [
       "[54.0, 74.0, 2.0, 6.0, 136.0]"
      ]
     },
     "execution_count": 15,
     "metadata": {},
     "output_type": "execute_result"
    }
   ],
   "source": [
    "DOF=[2,2,2] #input manually\n",
    "DOF.append(len(DOF)+2)\n",
    "DOF.append(sum(DOF))\n",
    "SS=[SS_effect[i] for i in SS_effect.keys()]+[SS_error,SS_tot]\n",
    "SS"
   ]
  },
  {
   "cell_type": "code",
   "execution_count": 16,
   "id": "b99eb70e",
   "metadata": {},
   "outputs": [
    {
     "data": {
      "text/plain": [
       "[2, 2, 2, 5, 11]"
      ]
     },
     "execution_count": 16,
     "metadata": {},
     "output_type": "execute_result"
    }
   ],
   "source": [
    "DOF"
   ]
  },
  {
   "cell_type": "code",
   "execution_count": 17,
   "id": "ee1a750d",
   "metadata": {},
   "outputs": [
    {
     "data": {
      "text/plain": [
       "[27.0, 37.0, 1.0, 1.2, 12.363636363636363]"
      ]
     },
     "execution_count": 17,
     "metadata": {},
     "output_type": "execute_result"
    }
   ],
   "source": [
    "MS=[SS[i]/DOF[i] for i in range(len(SS))]\n",
    "MS"
   ]
  },
  {
   "cell_type": "code",
   "execution_count": 18,
   "id": "4e79fd4f",
   "metadata": {
    "scrolled": true
   },
   "outputs": [
    {
     "data": {
      "text/plain": [
       "[23.625, 32.375, 0.875, 1.05]"
      ]
     },
     "execution_count": 18,
     "metadata": {},
     "output_type": "execute_result"
    }
   ],
   "source": [
    "error_index=[-3] + [-2] #input the 1st list manually\n",
    "Error_SS=sum([SS[i] for i in error_index])\n",
    "Error_MS=Error_SS/sum([DOF[i] for i in error_index])\n",
    "F_ratio=[i/Error_MS for i in MS[:-1]]\n",
    "F_ratio"
   ]
  },
  {
   "cell_type": "code",
   "execution_count": 19,
   "id": "28269b46",
   "metadata": {},
   "outputs": [
    {
     "data": {
      "text/plain": [
       "1.1428571428571428"
      ]
     },
     "execution_count": 19,
     "metadata": {},
     "output_type": "execute_result"
    }
   ],
   "source": [
    "Error_MS"
   ]
  },
  {
   "cell_type": "code",
   "execution_count": 20,
   "id": "1cd60c5c",
   "metadata": {},
   "outputs": [
    {
     "data": {
      "text/plain": [
       "8.0"
      ]
     },
     "execution_count": 20,
     "metadata": {},
     "output_type": "execute_result"
    }
   ],
   "source": [
    "Error_SS"
   ]
  },
  {
   "cell_type": "code",
   "execution_count": 21,
   "id": "0d69ed72",
   "metadata": {},
   "outputs": [
    {
     "name": "stdout",
     "output_type": "stream",
     "text": [
      "sig_exp = 1.0690449676496976\n",
      "sig_effect = 0.6172133998483676\n"
     ]
    }
   ],
   "source": [
    "sig2_exp=Error_MS\n",
    "sig_exp=np.sqrt(sig2_exp)\n",
    "sig2_effect=sig2_exp*(1/3)        #change manually\n",
    "sig_effect=np.sqrt(sig2_effect)\n",
    "print(\"sig_exp = {}\".format(sig_exp))\n",
    "print(\"sig_effect = {}\".format(sig_effect))"
   ]
  },
  {
   "cell_type": "code",
   "execution_count": 22,
   "id": "5c0552e4",
   "metadata": {
    "scrolled": true
   },
   "outputs": [
    {
     "name": "stdout",
     "output_type": "stream",
     "text": [
      "A-limits: [42.765573200303265, 45.234426799696735]\n",
      "B-limits: [40.0989065336366, 42.56776013303007]\n",
      "C-limits: [39.43223986696993, 41.9010934663634]\n"
     ]
    }
   ],
   "source": [
    "current_cond=[\"A1\",\"B2\",\"C2\",\"D2\",\"E3\"]#input manually\n",
    "for i in m_list:\n",
    "    if i[0] in current_cond:\n",
    "        print(i[0][0]+\"-limits: \"+str([i[1]-2*sig_effect,i[1]+2*sig_effect]))"
   ]
  },
  {
   "cell_type": "code",
   "execution_count": 23,
   "id": "8830c8af",
   "metadata": {},
   "outputs": [
    {
     "name": "stdout",
     "output_type": "stream",
     "text": [
      "Equivalent sample size: 4.5\n"
     ]
    }
   ],
   "source": [
    "n=len(n2)\n",
    "#Optimum settings: A3,B1       #pick manually(significant terms outside effect limits)\n",
    "nA3=6\n",
    "nB1=6\n",
    "n0=1/(1/n+(1/nA3-1/n)+(1/nB1-1/n)) #edit according to optimum settings chosen\n",
    "print(\"Equivalent sample size: {}\".format(n0))"
   ]
  },
  {
   "cell_type": "code",
   "execution_count": 24,
   "id": "34d39dd0",
   "metadata": {
    "scrolled": true
   },
   "outputs": [
    {
     "name": "stdout",
     "output_type": "stream",
     "text": [
      "Prediction Error: 0.25396825396825395\n"
     ]
    }
   ],
   "source": [
    "sig2_pred=(1/n0)*(sig2_exp)\n",
    "print(\"Prediction Error: {}\".format(sig2_pred))"
   ]
  },
  {
   "cell_type": "code",
   "execution_count": null,
   "id": "233ffd13",
   "metadata": {},
   "outputs": [],
   "source": []
  },
  {
   "cell_type": "markdown",
   "id": "ded74d0d",
   "metadata": {},
   "source": [
    "### Deposition rate"
   ]
  },
  {
   "cell_type": "code",
   "execution_count": 25,
   "id": "1dd8956d",
   "metadata": {},
   "outputs": [
    {
     "data": {
      "text/plain": [
       "[('A1', 32.11666666666667),\n",
       " ('A2', 32.555),\n",
       " ('A3', 31.573333333333334),\n",
       " ('B1', 31.79333333333334),\n",
       " ('B2', 32.019999999999996),\n",
       " ('B3', 32.431666666666665),\n",
       " ('C1', 31.456666666666667),\n",
       " ('C2', 32.31166666666667),\n",
       " ('C3', 32.47666666666667),\n",
       " ('D1', 31.541666666666668),\n",
       " ('D2', 32.29666666666667),\n",
       " ('D3', 32.406666666666666),\n",
       " ('E1', 31.94666666666667),\n",
       " ('E2', 31.836666666666662),\n",
       " ('E3', 32.461666666666666)]"
      ]
     },
     "execution_count": 25,
     "metadata": {},
     "output_type": "execute_result"
    }
   ],
   "source": [
    "F=[0,'A','B','C',0,'D',0,'E']\n",
    "A=L18()\n",
    "n2=[31.19,32.44,32.79,31.93,33.56,33.26,32.67,30.63,31.62,32.31,31.04,32.93,30.55,33.76,32.27,32.11,30.69,31.72]\n",
    "E=effect_index(A,F)\n",
    "m_list=[]\n",
    "for i in range(len(E)):\n",
    "    n=0\n",
    "    for j in E[i][1][0]:\n",
    "        n+=n2[j]\n",
    "    n/=len(E[i][1][0])\n",
    "    m_list.append((E[i][0],n))\n",
    "m_list"
   ]
  },
  {
   "cell_type": "code",
   "execution_count": 26,
   "id": "2f0b07b2",
   "metadata": {},
   "outputs": [
    {
     "data": {
      "text/plain": [
       "32.08166666666667"
      ]
     },
     "execution_count": 26,
     "metadata": {},
     "output_type": "execute_result"
    }
   ],
   "source": [
    "m=np.mean(n2)\n",
    "m"
   ]
  },
  {
   "cell_type": "code",
   "execution_count": 27,
   "id": "d469b13a",
   "metadata": {},
   "outputs": [
    {
     "data": {
      "text/plain": [
       "18543.012300000002"
      ]
     },
     "execution_count": 27,
     "metadata": {},
     "output_type": "execute_result"
    }
   ],
   "source": [
    "SS_gtot=0\n",
    "for i in n2:\n",
    "    SS_gtot+=i**2\n",
    "SS_gtot"
   ]
  },
  {
   "cell_type": "code",
   "execution_count": 28,
   "id": "6e2a3143",
   "metadata": {},
   "outputs": [
    {
     "data": {
      "text/plain": [
       "18526.200050000007"
      ]
     },
     "execution_count": 28,
     "metadata": {},
     "output_type": "execute_result"
    }
   ],
   "source": [
    "SS_mean=18*(m**2)\n",
    "SS_mean"
   ]
  },
  {
   "cell_type": "code",
   "execution_count": 29,
   "id": "0f91e3a5",
   "metadata": {},
   "outputs": [
    {
     "data": {
      "text/plain": [
       "16.812249999999995"
      ]
     },
     "execution_count": 29,
     "metadata": {},
     "output_type": "execute_result"
    }
   ],
   "source": [
    "SS_tot=0\n",
    "for i in n2:\n",
    "    SS_tot+=(i-m)**2\n",
    "SS_tot"
   ]
  },
  {
   "cell_type": "code",
   "execution_count": 30,
   "id": "9b34916b",
   "metadata": {},
   "outputs": [
    {
     "data": {
      "text/plain": [
       "{'A': 2.902033333333327,\n",
       " 'B': 1.2566333333333053,\n",
       " 'C': 3.597299999999999,\n",
       " 'D': 2.6606999999999914,\n",
       " 'E': 1.3359000000000056}"
      ]
     },
     "execution_count": 30,
     "metadata": {},
     "output_type": "execute_result"
    }
   ],
   "source": [
    "SS_effect={}\n",
    "for i in range(len(F)):\n",
    "    if F[i]!=0:\n",
    "        SS_effect[F[i]]=0\n",
    "        for j in range(len(m_list)):\n",
    "            if m_list[j][0].startswith(F[i]):\n",
    "                SS_effect[F[i]]+=(m_list[j][1]-m)**2\n",
    "for j in SS_effect.keys():\n",
    "    SS_effect[j]*=6\n",
    "SS_effect"
   ]
  },
  {
   "cell_type": "code",
   "execution_count": 31,
   "id": "a8ad94f5",
   "metadata": {},
   "outputs": [
    {
     "data": {
      "text/plain": [
       "5.059683333333368"
      ]
     },
     "execution_count": 31,
     "metadata": {},
     "output_type": "execute_result"
    }
   ],
   "source": [
    "SS_error=SS_tot-sum(SS_effect.values())\n",
    "SS_error"
   ]
  },
  {
   "cell_type": "code",
   "execution_count": 32,
   "id": "48fd8b5c",
   "metadata": {},
   "outputs": [
    {
     "data": {
      "text/plain": [
       "[2.902033333333327,\n",
       " 1.2566333333333053,\n",
       " 3.597299999999999,\n",
       " 2.6606999999999914,\n",
       " 1.3359000000000056,\n",
       " 5.059683333333368,\n",
       " 16.812249999999995]"
      ]
     },
     "execution_count": 32,
     "metadata": {},
     "output_type": "execute_result"
    }
   ],
   "source": [
    "DOF=[2,2,2,2,2] #input manually\n",
    "DOF.append(len(DOF)+2)\n",
    "DOF.append(sum(DOF))\n",
    "SS=[SS_effect[i] for i in SS_effect.keys()]+[SS_error,SS_tot]\n",
    "SS"
   ]
  },
  {
   "cell_type": "code",
   "execution_count": 33,
   "id": "75d05afc",
   "metadata": {},
   "outputs": [
    {
     "data": {
      "text/plain": [
       "[1.4510166666666635,\n",
       " 0.6283166666666526,\n",
       " 1.7986499999999994,\n",
       " 1.3303499999999957,\n",
       " 0.6679500000000028,\n",
       " 0.7228119047619097,\n",
       " 0.9889558823529409]"
      ]
     },
     "execution_count": 33,
     "metadata": {},
     "output_type": "execute_result"
    }
   ],
   "source": [
    "MS=[SS[i]/DOF[i] for i in range(len(SS))]\n",
    "MS"
   ]
  },
  {
   "cell_type": "code",
   "execution_count": 34,
   "id": "75de7539",
   "metadata": {},
   "outputs": [
    {
     "data": {
      "text/plain": [
       "[2.085824804577315,\n",
       " 0.9032001620445277,\n",
       " 2.5855449292470762,\n",
       " 1.9123674403712994,\n",
       " 0.9601727603984057,\n",
       " 1.0390363078734477]"
      ]
     },
     "execution_count": 34,
     "metadata": {},
     "output_type": "execute_result"
    }
   ],
   "source": [
    "error_index=[1,4] + [-2] #input the 1st list manually\n",
    "Error_SS=sum([SS[i] for i in error_index])\n",
    "Error_MS=Error_SS/sum([DOF[i] for i in error_index])\n",
    "F_ratio=[i/Error_MS for i in MS[:-1]]\n",
    "F_ratio"
   ]
  },
  {
   "cell_type": "code",
   "execution_count": 35,
   "id": "cdab4ee3",
   "metadata": {},
   "outputs": [
    {
     "name": "stdout",
     "output_type": "stream",
     "text": [
      "sig_exp = 0.8340599862156568\n",
      "sig_effect = 0.34050356351685507\n"
     ]
    }
   ],
   "source": [
    "sig2_exp=Error_MS\n",
    "sig_exp=np.sqrt(sig2_exp)\n",
    "sig2_effect=sig2_exp*(1/6)\n",
    "sig_effect=np.sqrt(sig2_effect)\n",
    "print(\"sig_exp = {}\".format(sig_exp))\n",
    "print(\"sig_effect = {}\".format(sig_effect))"
   ]
  },
  {
   "cell_type": "code",
   "execution_count": 36,
   "id": "796214ec",
   "metadata": {},
   "outputs": [
    {
     "name": "stdout",
     "output_type": "stream",
     "text": [
      "A-limits: [31.435659539632958, 32.797673793700376]\n",
      "B-limits: [31.338992872966287, 32.701007127033705]\n",
      "C-limits: [31.63065953963296, 32.99267379370038]\n",
      "D-limits: [31.615659539632958, 32.977673793700376]\n",
      "E-limits: [31.780659539632957, 33.142673793700375]\n"
     ]
    }
   ],
   "source": [
    "current_cond=[\"A1\",\"B2\",\"C2\",\"D2\",\"E3\"]#input manually\n",
    "for i in m_list:\n",
    "    if i[0] in current_cond:\n",
    "        print(i[0][0]+\"-limits: \"+str([i[1]-2*sig_effect,i[1]+2*sig_effect]))"
   ]
  },
  {
   "cell_type": "code",
   "execution_count": 37,
   "id": "f092c577",
   "metadata": {},
   "outputs": [
    {
     "name": "stdout",
     "output_type": "stream",
     "text": [
      "Equivalent sample size: 18.0\n"
     ]
    }
   ],
   "source": [
    "n=len(n2)\n",
    "#Optimum settings: Nil       #pick manually(significant terms outside effect limits)\n",
    "\n",
    "n0=1/(1/n) #edit according to optimum settings chosen\n",
    "print(\"Equivalent sample size: {}\".format(n0))"
   ]
  },
  {
   "cell_type": "code",
   "execution_count": 38,
   "id": "cde52121",
   "metadata": {},
   "outputs": [
    {
     "name": "stdout",
     "output_type": "stream",
     "text": [
      "Prediction Error: 0.03864755892255898\n"
     ]
    }
   ],
   "source": [
    "sig2_pred=(1/n0)*(sig2_exp)\n",
    "print(\"Prediction Error: {}\".format(sig2_pred))"
   ]
  },
  {
   "cell_type": "code",
   "execution_count": null,
   "id": "c8bbdef9",
   "metadata": {},
   "outputs": [],
   "source": []
  }
 ],
 "metadata": {
  "kernelspec": {
   "display_name": "Python 3 (ipykernel)",
   "language": "python",
   "name": "python3"
  },
  "language_info": {
   "codemirror_mode": {
    "name": "ipython",
    "version": 3
   },
   "file_extension": ".py",
   "mimetype": "text/x-python",
   "name": "python",
   "nbconvert_exporter": "python",
   "pygments_lexer": "ipython3",
   "version": "3.9.13"
  }
 },
 "nbformat": 4,
 "nbformat_minor": 5
}
