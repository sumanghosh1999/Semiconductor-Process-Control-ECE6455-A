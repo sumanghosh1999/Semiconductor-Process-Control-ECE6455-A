{
 "cells": [
  {
   "cell_type": "code",
   "execution_count": 1,
   "id": "d3c73a97",
   "metadata": {},
   "outputs": [],
   "source": [
    "Y=[26,13,23,27,19,18,19]"
   ]
  },
  {
   "cell_type": "code",
   "execution_count": 2,
   "id": "17e445ac",
   "metadata": {},
   "outputs": [],
   "source": [
    "import numpy as np"
   ]
  },
  {
   "cell_type": "code",
   "execution_count": 3,
   "id": "4b9b95f5",
   "metadata": {},
   "outputs": [
    {
     "data": {
      "text/plain": [
       "20.714285714285715"
      ]
     },
     "execution_count": 3,
     "metadata": {},
     "output_type": "execute_result"
    }
   ],
   "source": [
    "np.mean(Y)"
   ]
  },
  {
   "cell_type": "code",
   "execution_count": 4,
   "id": "caf8d051",
   "metadata": {},
   "outputs": [],
   "source": [
    "def SOS(A):\n",
    "    x=0\n",
    "    for i in A:\n",
    "        x+=i**2\n",
    "    return x"
   ]
  },
  {
   "cell_type": "code",
   "execution_count": 5,
   "id": "673f5b8b",
   "metadata": {},
   "outputs": [],
   "source": [
    "x1=[-1,+1,-1,+1,0,0,0]\n",
    "x2=[-1,-1,+1,+1,0,0,0]"
   ]
  },
  {
   "cell_type": "code",
   "execution_count": 6,
   "id": "21c373cf",
   "metadata": {},
   "outputs": [
    {
     "data": {
      "text/plain": [
       "array([20.21, 15.71, 25.71, 21.21, 20.71, 20.71, 20.71])"
      ]
     },
     "execution_count": 6,
     "metadata": {},
     "output_type": "execute_result"
    }
   ],
   "source": [
    "y_hat=[]\n",
    "for i in range(len(x1)):\n",
    "    y=20.71-2.25*x1[i]+2.75*x2[i]\n",
    "    y_hat.append(y)\n",
    "np.array(y_hat)"
   ]
  },
  {
   "cell_type": "code",
   "execution_count": 7,
   "id": "bcdb04b5",
   "metadata": {},
   "outputs": [
    {
     "data": {
      "text/plain": [
       "94.92869999999999"
      ]
     },
     "execution_count": 7,
     "metadata": {},
     "output_type": "execute_result"
    }
   ],
   "source": [
    "SOS(np.array(Y)-np.array(y_hat))"
   ]
  },
  {
   "cell_type": "code",
   "execution_count": null,
   "id": "8c700fd2",
   "metadata": {},
   "outputs": [],
   "source": []
  }
 ],
 "metadata": {
  "kernelspec": {
   "display_name": "Python 3 (ipykernel)",
   "language": "python",
   "name": "python3"
  },
  "language_info": {
   "codemirror_mode": {
    "name": "ipython",
    "version": 3
   },
   "file_extension": ".py",
   "mimetype": "text/x-python",
   "name": "python",
   "nbconvert_exporter": "python",
   "pygments_lexer": "ipython3",
   "version": "3.9.13"
  }
 },
 "nbformat": 4,
 "nbformat_minor": 5
}
