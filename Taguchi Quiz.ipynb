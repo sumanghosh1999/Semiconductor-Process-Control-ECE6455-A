{
 "cells": [
  {
   "cell_type": "code",
   "execution_count": 1,
   "id": "e95c2393",
   "metadata": {},
   "outputs": [],
   "source": [
    "import math\n",
    "import numpy as np\n",
    "from tabulate import tabulate\n",
    "import matplotlib.pyplot as plt\n",
    "import scipy.stats"
   ]
  },
  {
   "cell_type": "markdown",
   "id": "ea0e1a50",
   "metadata": {},
   "source": [
    "### Functions"
   ]
  },
  {
   "cell_type": "code",
   "execution_count": 2,
   "id": "8d0c621b",
   "metadata": {},
   "outputs": [],
   "source": [
    "def Lnew():\n",
    "    lnew=np.array([[1,1,1],\n",
    "                   [1,2,2],\n",
    "                   [1,3,3],\n",
    "                   [2,1,2],\n",
    "                   [2,2,3],\n",
    "                   [2,3,1],\n",
    "                   [3,1,3],\n",
    "                   [3,2,1],\n",
    "                   [3,3,2]])\n",
    "    return(lnew)"
   ]
  },
  {
   "cell_type": "code",
   "execution_count": 3,
   "id": "5f33dff1",
   "metadata": {},
   "outputs": [],
   "source": [
    "def SNR1(Y):\n",
    "    #eta\n",
    "    #surface defects\n",
    "    s=0\n",
    "    I,J=np.shape(Y)\n",
    "    s=0\n",
    "    for i in range(I):\n",
    "        for j in range(J):\n",
    "            s+=T[i][j]\n",
    "    return(-10*math.log(s,10))"
   ]
  },
  {
   "cell_type": "code",
   "execution_count": 4,
   "id": "e1e9d25b",
   "metadata": {},
   "outputs": [],
   "source": [
    "def SNR2(T):\n",
    "    #eta'\n",
    "    #thickness\n",
    "    I,J=np.shape(T)\n",
    "    s=0\n",
    "    for i in range(I):\n",
    "        for j in range(J):\n",
    "            s+=T[i][j]\n",
    "    mu=(1/(I*J))*s\n",
    "    mu2=(mu)**2\n",
    "    sig2=0\n",
    "    for i in range(I):\n",
    "        for j in range(J):\n",
    "            s+=(T[i][j]-mu)**2\n",
    "    sig2=(1/(I*J-1))*sig2\n",
    "    return(10*math.log(mu2/sig2,10))"
   ]
  },
  {
   "cell_type": "code",
   "execution_count": 5,
   "id": "c61b08ed",
   "metadata": {},
   "outputs": [],
   "source": [
    "def SNR3(R):\n",
    "    #eta\"\n",
    "    #deposition rate\n",
    "    res=[]\n",
    "    for i in R:\n",
    "        res.append(20*math.log(i,10))\n",
    "    return(res)"
   ]
  },
  {
   "cell_type": "code",
   "execution_count": 6,
   "id": "c2002036",
   "metadata": {},
   "outputs": [],
   "source": [
    "def effect_index(A,F):\n",
    "    res=[]\n",
    "    for i in range(len(F)):\n",
    "        if F[i]!=0:\n",
    "            #D=[]\n",
    "            for j in set(A[:,i]):\n",
    "                x=[F[i]+str(j),np.where(A[:,i]==j)]\n",
    "                res.append(x)\n",
    "            #res.append(D)\n",
    "    return(res)"
   ]
  },
  {
   "cell_type": "markdown",
   "id": "79a7e089",
   "metadata": {},
   "source": [
    "### Thickness Uniformity"
   ]
  },
  {
   "cell_type": "code",
   "execution_count": 7,
   "id": "68da3d91",
   "metadata": {},
   "outputs": [
    {
     "data": {
      "text/plain": [
       "[('A1', 44.0),\n",
       " ('A2', 41.0),\n",
       " ('A3', 38.0),\n",
       " ('B1', 44.333333333333336),\n",
       " ('B2', 41.333333333333336),\n",
       " ('B3', 37.333333333333336),\n",
       " ('C1', 40.666666666666664),\n",
       " ('C2', 40.666666666666664),\n",
       " ('C3', 41.666666666666664)]"
      ]
     },
     "execution_count": 7,
     "metadata": {},
     "output_type": "execute_result"
    }
   ],
   "source": [
    "F=['A','B','C'] #input manually\n",
    "A=Lnew()\n",
    "n2=[46,44,42,45,41,37,42,39,33] #input manually\n",
    "E=effect_index(A,F)\n",
    "m_list=[]\n",
    "for i in range(len(E)):\n",
    "    n=0\n",
    "    for j in E[i][1][0]:\n",
    "        n+=n2[j]\n",
    "    n/=len(E[i][1][0])\n",
    "    m_list.append((E[i][0],n))\n",
    "m_list"
   ]
  },
  {
   "cell_type": "code",
   "execution_count": 8,
   "id": "98bcce0a",
   "metadata": {},
   "outputs": [
    {
     "data": {
      "text/plain": [
       "41.0"
      ]
     },
     "execution_count": 8,
     "metadata": {},
     "output_type": "execute_result"
    }
   ],
   "source": [
    "m=np.mean(n2)\n",
    "m"
   ]
  },
  {
   "cell_type": "code",
   "execution_count": 9,
   "id": "43ed80ed",
   "metadata": {},
   "outputs": [
    {
     "data": {
      "text/plain": [
       "15265"
      ]
     },
     "execution_count": 9,
     "metadata": {},
     "output_type": "execute_result"
    }
   ],
   "source": [
    "SS_gtot=0\n",
    "for i in n2:\n",
    "    SS_gtot+=i**2\n",
    "SS_gtot"
   ]
  },
  {
   "cell_type": "code",
   "execution_count": 10,
   "id": "e72a0bb7",
   "metadata": {},
   "outputs": [
    {
     "data": {
      "text/plain": [
       "30258.0"
      ]
     },
     "execution_count": 10,
     "metadata": {},
     "output_type": "execute_result"
    }
   ],
   "source": [
    "SS_mean=18*(m**2)\n",
    "SS_mean"
   ]
  },
  {
   "cell_type": "code",
   "execution_count": 11,
   "id": "d951cfb2",
   "metadata": {},
   "outputs": [
    {
     "data": {
      "text/plain": [
       "136.0"
      ]
     },
     "execution_count": 11,
     "metadata": {},
     "output_type": "execute_result"
    }
   ],
   "source": [
    "SS_tot=0\n",
    "for i in n2:\n",
    "    SS_tot+=(i-m)**2\n",
    "SS_tot"
   ]
  },
  {
   "cell_type": "code",
   "execution_count": 12,
   "id": "94e5f92d",
   "metadata": {},
   "outputs": [
    {
     "data": {
      "text/plain": [
       "{'A': 54.0, 'B': 74.0, 'C': 2.0}"
      ]
     },
     "execution_count": 12,
     "metadata": {},
     "output_type": "execute_result"
    }
   ],
   "source": [
    "SS_effect={}\n",
    "for i in range(len(F)):\n",
    "    if F[i]!=0:\n",
    "        SS_effect[F[i]]=0\n",
    "        for j in range(len(m_list)):\n",
    "            if m_list[j][0].startswith(F[i]):\n",
    "                SS_effect[F[i]]+=(m_list[j][1]-m)**2\n",
    "for j in SS_effect.keys():\n",
    "    SS_effect[j]*=3\n",
    "SS_effect"
   ]
  },
  {
   "cell_type": "code",
   "execution_count": 13,
   "id": "a7931f9d",
   "metadata": {
    "scrolled": true
   },
   "outputs": [
    {
     "data": {
      "text/plain": [
       "6.0"
      ]
     },
     "execution_count": 13,
     "metadata": {},
     "output_type": "execute_result"
    }
   ],
   "source": [
    "SS_error=SS_tot-sum(SS_effect.values())\n",
    "SS_error"
   ]
  },
  {
   "cell_type": "code",
   "execution_count": 14,
   "id": "6ca20586",
   "metadata": {
    "scrolled": true
   },
   "outputs": [
    {
     "data": {
      "text/plain": [
       "[54.0, 74.0, 2.0, 6.0, 136.0]"
      ]
     },
     "execution_count": 14,
     "metadata": {},
     "output_type": "execute_result"
    }
   ],
   "source": [
    "DOF=[2,2,2] #input manually\n",
    "DOF.append(len(DOF)+2)\n",
    "DOF.append(sum(DOF))\n",
    "SS=[SS_effect[i] for i in SS_effect.keys()]+[SS_error,SS_tot]\n",
    "SS"
   ]
  },
  {
   "cell_type": "code",
   "execution_count": 15,
   "id": "b99eb70e",
   "metadata": {},
   "outputs": [
    {
     "data": {
      "text/plain": [
       "[2, 2, 2, 5, 11]"
      ]
     },
     "execution_count": 15,
     "metadata": {},
     "output_type": "execute_result"
    }
   ],
   "source": [
    "DOF"
   ]
  },
  {
   "cell_type": "code",
   "execution_count": 16,
   "id": "ee1a750d",
   "metadata": {},
   "outputs": [
    {
     "data": {
      "text/plain": [
       "[27.0, 37.0, 1.0, 1.2, 12.363636363636363]"
      ]
     },
     "execution_count": 16,
     "metadata": {},
     "output_type": "execute_result"
    }
   ],
   "source": [
    "MS=[SS[i]/DOF[i] for i in range(len(SS))]\n",
    "MS"
   ]
  },
  {
   "cell_type": "code",
   "execution_count": 17,
   "id": "4e79fd4f",
   "metadata": {
    "scrolled": true
   },
   "outputs": [
    {
     "data": {
      "text/plain": [
       "[23.625, 32.375, 0.875, 1.05]"
      ]
     },
     "execution_count": 17,
     "metadata": {},
     "output_type": "execute_result"
    }
   ],
   "source": [
    "error_index=[-3] + [-2] #input the 1st list manually\n",
    "Error_SS=sum([SS[i] for i in error_index])\n",
    "Error_MS=Error_SS/sum([DOF[i] for i in error_index])\n",
    "F_ratio=[i/Error_MS for i in MS[:-1]]\n",
    "F_ratio"
   ]
  },
  {
   "cell_type": "code",
   "execution_count": 18,
   "id": "28269b46",
   "metadata": {},
   "outputs": [
    {
     "data": {
      "text/plain": [
       "1.1428571428571428"
      ]
     },
     "execution_count": 18,
     "metadata": {},
     "output_type": "execute_result"
    }
   ],
   "source": [
    "Error_MS"
   ]
  },
  {
   "cell_type": "code",
   "execution_count": 19,
   "id": "1cd60c5c",
   "metadata": {},
   "outputs": [
    {
     "data": {
      "text/plain": [
       "8.0"
      ]
     },
     "execution_count": 19,
     "metadata": {},
     "output_type": "execute_result"
    }
   ],
   "source": [
    "Error_SS"
   ]
  },
  {
   "cell_type": "code",
   "execution_count": 20,
   "id": "0d69ed72",
   "metadata": {},
   "outputs": [
    {
     "name": "stdout",
     "output_type": "stream",
     "text": [
      "sig_exp = 1.0690449676496976\n",
      "sig_effect = 0.6172133998483676\n"
     ]
    }
   ],
   "source": [
    "sig2_exp=Error_MS\n",
    "sig_exp=np.sqrt(sig2_exp)\n",
    "sig2_effect=sig2_exp*(1/3) \n",
    "sig_effect=np.sqrt(sig2_effect)\n",
    "print(\"sig_exp = {}\".format(sig_exp))\n",
    "print(\"sig_effect = {}\".format(sig_effect))"
   ]
  },
  {
   "cell_type": "code",
   "execution_count": 21,
   "id": "5c0552e4",
   "metadata": {
    "scrolled": true
   },
   "outputs": [
    {
     "name": "stdout",
     "output_type": "stream",
     "text": [
      "A-limits: [42.765573200303265, 45.234426799696735]\n",
      "B-limits: [40.0989065336366, 42.56776013303007]\n",
      "C-limits: [39.43223986696993, 41.9010934663634]\n"
     ]
    }
   ],
   "source": [
    "current_cond=[\"A1\",\"B2\",\"C2\",\"D2\",\"E3\"]#input manually\n",
    "for i in m_list:\n",
    "    if i[0] in current_cond:\n",
    "        print(i[0][0]+\"-limits: \"+str([i[1]-2*sig_effect,i[1]+2*sig_effect]))"
   ]
  },
  {
   "cell_type": "code",
   "execution_count": 22,
   "id": "8830c8af",
   "metadata": {},
   "outputs": [
    {
     "name": "stdout",
     "output_type": "stream",
     "text": [
      "Equivalent sample size: 4.5\n"
     ]
    }
   ],
   "source": [
    "n=len(n2)\n",
    "#Optimum settings: A3,B1       #pick manually(significant terms outside effect limits)\n",
    "nA3=6\n",
    "nB1=6\n",
    "n0=1/(1/n+(1/nA3-1/n)+(1/nB1-1/n)) #edit according to optimum settings chosen\n",
    "print(\"Equivalent sample size: {}\".format(n0))"
   ]
  },
  {
   "cell_type": "code",
   "execution_count": 23,
   "id": "34d39dd0",
   "metadata": {
    "scrolled": true
   },
   "outputs": [
    {
     "name": "stdout",
     "output_type": "stream",
     "text": [
      "Prediction Error: 0.25396825396825395\n"
     ]
    }
   ],
   "source": [
    "sig2_pred=(1/n0)*(sig2_exp)\n",
    "print(\"Prediction Error: {}\".format(sig2_pred))"
   ]
  },
  {
   "cell_type": "code",
   "execution_count": null,
   "id": "233ffd13",
   "metadata": {},
   "outputs": [],
   "source": []
  }
 ],
 "metadata": {
  "kernelspec": {
   "display_name": "Python 3 (ipykernel)",
   "language": "python",
   "name": "python3"
  },
  "language_info": {
   "codemirror_mode": {
    "name": "ipython",
    "version": 3
   },
   "file_extension": ".py",
   "mimetype": "text/x-python",
   "name": "python",
   "nbconvert_exporter": "python",
   "pygments_lexer": "ipython3",
   "version": "3.9.13"
  }
 },
 "nbformat": 4,
 "nbformat_minor": 5
}
