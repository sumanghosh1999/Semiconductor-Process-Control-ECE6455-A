{
 "cells": [
  {
   "cell_type": "code",
   "execution_count": 1,
   "id": "6a116f03",
   "metadata": {},
   "outputs": [],
   "source": [
    "import numpy as np\n",
    "import matplotlib.pyplot as plt"
   ]
  },
  {
   "cell_type": "code",
   "execution_count": null,
   "id": "27bebfb3",
   "metadata": {},
   "outputs": [],
   "source": []
  },
  {
   "cell_type": "code",
   "execution_count": 2,
   "id": "16f30882",
   "metadata": {},
   "outputs": [],
   "source": [
    "import pandas as pd\n",
    "data=pd.read_excel(\"ece6455spreadsheet.xlsx\")"
   ]
  },
  {
   "cell_type": "code",
   "execution_count": 3,
   "id": "d2401b4f",
   "metadata": {},
   "outputs": [],
   "source": [
    "#X=np.array(data[[\"x1\",\"x2\"]])\n",
    "#x1=X[:,0]\n",
    "#x2=X[:,1]"
   ]
  },
  {
   "cell_type": "code",
   "execution_count": 4,
   "id": "ae8985b9",
   "metadata": {},
   "outputs": [],
   "source": [
    "x1=[0,5,10,15,20,25,30]\n",
    "x2=[125,120,110,100,90,85,70]\n",
    "X=np.array([x1,x2])"
   ]
  },
  {
   "cell_type": "code",
   "execution_count": 5,
   "id": "ff42abb1",
   "metadata": {},
   "outputs": [
    {
     "data": {
      "text/plain": [
       "<matplotlib.collections.PathCollection at 0x15b40fd3190>"
      ]
     },
     "execution_count": 5,
     "metadata": {},
     "output_type": "execute_result"
    },
    {
     "data": {
      "image/png": "[encoded data removed]",
      "text/plain": [
       "<Figure size 640x480 with 1 Axes>"
      ]
     },
     "metadata": {},
     "output_type": "display_data"
    }
   ],
   "source": [
    "plt.scatter(x1,x2)"
   ]
  },
  {
   "cell_type": "code",
   "execution_count": 6,
   "id": "1641ba47",
   "metadata": {},
   "outputs": [
    {
     "data": {
      "text/plain": [
       "array([[ 116.66666667, -212.5       ],\n",
       "       [-212.5       ,  391.66666667]])"
      ]
     },
     "execution_count": 6,
     "metadata": {},
     "output_type": "execute_result"
    }
   ],
   "source": [
    "C=np.cov(X)\n",
    "C"
   ]
  },
  {
   "cell_type": "code",
   "execution_count": 7,
   "id": "1e5d8fad",
   "metadata": {},
   "outputs": [],
   "source": [
    "eigen_val,eigen_vecs=np.linalg.eig(C)"
   ]
  },
  {
   "cell_type": "code",
   "execution_count": 8,
   "id": "917aff98",
   "metadata": {},
   "outputs": [
    {
     "data": {
      "text/plain": [
       "(2, 7)"
      ]
     },
     "execution_count": 8,
     "metadata": {},
     "output_type": "execute_result"
    }
   ],
   "source": [
    "np.shape(X)"
   ]
  },
  {
   "cell_type": "code",
   "execution_count": 9,
   "id": "f5e51f90",
   "metadata": {},
   "outputs": [
    {
     "data": {
      "text/plain": [
       "array([  1.06095753, 507.27237581])"
      ]
     },
     "execution_count": 9,
     "metadata": {},
     "output_type": "execute_result"
    }
   ],
   "source": [
    "eigen_val"
   ]
  },
  {
   "cell_type": "code",
   "execution_count": 10,
   "id": "c0aea403",
   "metadata": {},
   "outputs": [
    {
     "data": {
      "text/plain": [
       "array([[-0.87842224,  0.4778853 ],\n",
       "       [-0.4778853 , -0.87842224]])"
      ]
     },
     "execution_count": 10,
     "metadata": {},
     "output_type": "execute_result"
    }
   ],
   "source": [
    "eigen_vecs"
   ]
  },
  {
   "cell_type": "code",
   "execution_count": 11,
   "id": "825e2c56",
   "metadata": {},
   "outputs": [],
   "source": [
    "z1,z2=np.matmul(np.transpose(eigen_vecs),([x1-np.mean(x1),x2-np.mean(x2)]))"
   ]
  },
  {
   "cell_type": "code",
   "execution_count": 12,
   "id": "e836bae9",
   "metadata": {},
   "outputs": [
    {
     "data": {
      "text/plain": [
       "<matplotlib.collections.PathCollection at 0x15b4289d640>"
      ]
     },
     "execution_count": 12,
     "metadata": {},
     "output_type": "execute_result"
    },
    {
     "data": {
      "image/png": "[encoded data removed]",
      "text/plain": [
       "<Figure size 640x480 with 1 Axes>"
      ]
     },
     "metadata": {},
     "output_type": "display_data"
    }
   ],
   "source": [
    "plt.scatter(z1,z2)"
   ]
  },
  {
   "cell_type": "code",
   "execution_count": 13,
   "id": "90ed4246",
   "metadata": {},
   "outputs": [
    {
     "name": "stdout",
     "output_type": "stream",
     "text": [
      "Fraction of variation of z1: 0.0020871295577887666\n",
      "Fraction of variation of z2: 0.9979128704422112\n"
     ]
    }
   ],
   "source": [
    "fov_z1=eigen_val[0]/np.sum(eigen_val)\n",
    "fov_z2=eigen_val[1]/np.sum(eigen_val)\n",
    "print(\"Fraction of variation of z1: {}\".format(fov_z1))\n",
    "print(\"Fraction of variation of z2: {}\".format(fov_z2))"
   ]
  },
  {
   "cell_type": "code",
   "execution_count": 14,
   "id": "28d5733b",
   "metadata": {},
   "outputs": [
    {
     "name": "stdout",
     "output_type": "stream",
     "text": [
      "s.d. of z1= 0.9536205558109265\n",
      "s.d. of z2= 20.851975770890885\n"
     ]
    }
   ],
   "source": [
    "print(\"s.d. of z1= {}\".format(np.std(z1)))\n",
    "print(\"s.d. of z2= {}\".format(np.std(z2)))"
   ]
  },
  {
   "cell_type": "code",
   "execution_count": null,
   "id": "e74a1223",
   "metadata": {},
   "outputs": [],
   "source": []
  },
  {
   "cell_type": "code",
   "execution_count": null,
   "id": "986f3a31",
   "metadata": {},
   "outputs": [],
   "source": []
  },
  {
   "cell_type": "code",
   "execution_count": null,
   "id": "4b8da13a",
   "metadata": {},
   "outputs": [],
   "source": []
  },
  {
   "cell_type": "code",
   "execution_count": null,
   "id": "ed41e8b3",
   "metadata": {},
   "outputs": [],
   "source": []
  },
  {
   "cell_type": "code",
   "execution_count": null,
   "id": "5315dbbe",
   "metadata": {},
   "outputs": [],
   "source": []
  }
 ],
 "metadata": {
  "kernelspec": {
   "display_name": "Python 3 (ipykernel)",
   "language": "python",
   "name": "python3"
  },
  "language_info": {
   "codemirror_mode": {
    "name": "ipython",
    "version": 3
   },
   "file_extension": ".py",
   "mimetype": "text/x-python",
   "name": "python",
   "nbconvert_exporter": "python",
   "pygments_lexer": "ipython3",
   "version": "3.9.13"
  }
 },
 "nbformat": 4,
 "nbformat_minor": 5
}
