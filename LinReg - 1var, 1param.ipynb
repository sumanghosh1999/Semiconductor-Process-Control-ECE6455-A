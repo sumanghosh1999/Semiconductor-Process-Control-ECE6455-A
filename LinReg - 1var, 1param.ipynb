{
 "cells": [
  {
   "cell_type": "code",
   "execution_count": 1,
   "id": "d50fc9b4",
   "metadata": {},
   "outputs": [],
   "source": [
    "import numpy as np\n",
    "import scipy"
   ]
  },
  {
   "cell_type": "code",
   "execution_count": null,
   "id": "0b86a473",
   "metadata": {},
   "outputs": [],
   "source": []
  },
  {
   "cell_type": "code",
   "execution_count": 2,
   "id": "02946ea3",
   "metadata": {},
   "outputs": [],
   "source": [
    "def SOS(A):\n",
    "    x=0\n",
    "    for i in A:\n",
    "        x+=i**2\n",
    "    return x"
   ]
  },
  {
   "cell_type": "code",
   "execution_count": 3,
   "id": "7f5e7262",
   "metadata": {},
   "outputs": [],
   "source": [
    "def eprod(A,B):\n",
    "    L=[]\n",
    "    for i in range(len(A)):\n",
    "        L.append(A[i]*B[i])\n",
    "    return(L)"
   ]
  },
  {
   "cell_type": "code",
   "execution_count": null,
   "id": "5e5dcfd3",
   "metadata": {},
   "outputs": [],
   "source": []
  },
  {
   "cell_type": "code",
   "execution_count": 4,
   "id": "6cb8f6eb",
   "metadata": {},
   "outputs": [],
   "source": [
    "#y_hat=b*x"
   ]
  },
  {
   "cell_type": "code",
   "execution_count": 5,
   "id": "1b1d9ae3",
   "metadata": {},
   "outputs": [],
   "source": [
    "X=np.array([1,2,3,4,5,6])\n",
    "Y=np.array([31.2,32.4,33.4,34,34.6,35])\n",
    "n=len(X)\n",
    "p=1                                      #edit manually"
   ]
  },
  {
   "cell_type": "code",
   "execution_count": 6,
   "id": "b2cb3f4c",
   "metadata": {},
   "outputs": [
    {
     "data": {
      "text/plain": [
       "7.85934065934066"
      ]
     },
     "execution_count": 6,
     "metadata": {},
     "output_type": "execute_result"
    }
   ],
   "source": [
    "b=sum(eprod(X,Y))/SOS(X)\n",
    "b"
   ]
  },
  {
   "cell_type": "code",
   "execution_count": 7,
   "id": "f0a394fb",
   "metadata": {},
   "outputs": [
    {
     "name": "stdout",
     "output_type": "stream",
     "text": [
      "y_hat= (7.85934065934066)*x\n"
     ]
    }
   ],
   "source": [
    "print(\"y_hat= ({})*x\".format(b))"
   ]
  },
  {
   "cell_type": "code",
   "execution_count": 8,
   "id": "f0395f8b",
   "metadata": {},
   "outputs": [],
   "source": [
    "y_hat=b*X"
   ]
  },
  {
   "cell_type": "code",
   "execution_count": 9,
   "id": "f484d1b2",
   "metadata": {},
   "outputs": [
    {
     "data": {
      "text/plain": [
       "1095.9195604395604"
      ]
     },
     "execution_count": 9,
     "metadata": {},
     "output_type": "execute_result"
    }
   ],
   "source": [
    "SR=SOS(Y-y_hat)\n",
    "SR"
   ]
  },
  {
   "cell_type": "code",
   "execution_count": 10,
   "id": "296cc250",
   "metadata": {},
   "outputs": [
    {
     "data": {
      "text/plain": [
       "219.1839120879121"
      ]
     },
     "execution_count": 10,
     "metadata": {},
     "output_type": "execute_result"
    }
   ],
   "source": [
    "s2=SR/(n-p)\n",
    "s2"
   ]
  },
  {
   "cell_type": "code",
   "execution_count": 11,
   "id": "997fba7c",
   "metadata": {},
   "outputs": [
    {
     "data": {
      "text/plain": [
       "14.804861096542314"
      ]
     },
     "execution_count": 11,
     "metadata": {},
     "output_type": "execute_result"
    }
   ],
   "source": [
    "s=np.sqrt(s2)\n",
    "s"
   ]
  },
  {
   "cell_type": "code",
   "execution_count": 12,
   "id": "d28dc2e6",
   "metadata": {},
   "outputs": [
    {
     "data": {
      "text/plain": [
       "2.4086144185484843"
      ]
     },
     "execution_count": 12,
     "metadata": {},
     "output_type": "execute_result"
    }
   ],
   "source": [
    "Var_b=s2/SOS(X)\n",
    "Var_b"
   ]
  },
  {
   "cell_type": "code",
   "execution_count": 13,
   "id": "d2a14596",
   "metadata": {},
   "outputs": [
    {
     "data": {
      "text/plain": [
       "1.5519711397279539"
      ]
     },
     "execution_count": 13,
     "metadata": {},
     "output_type": "execute_result"
    }
   ],
   "source": [
    "SE_b=np.sqrt(Var_b)\n",
    "SE_b"
   ]
  },
  {
   "cell_type": "code",
   "execution_count": 14,
   "id": "d7271e74",
   "metadata": {},
   "outputs": [
    {
     "data": {
      "text/plain": [
       "5.06410232648935"
      ]
     },
     "execution_count": 14,
     "metadata": {},
     "output_type": "execute_result"
    }
   ],
   "source": [
    "beta=0                                 #edit manually\n",
    "t_ratio=(b-beta)/SE_b\n",
    "t_ratio"
   ]
  },
  {
   "cell_type": "code",
   "execution_count": 15,
   "id": "45cab6bf",
   "metadata": {},
   "outputs": [
    {
     "data": {
      "text/plain": [
       "0.0019432271422276104"
      ]
     },
     "execution_count": 15,
     "metadata": {},
     "output_type": "execute_result"
    }
   ],
   "source": [
    "p_b=1-scipy.stats.t.cdf(t_ratio, (n-p))\n",
    "p_b"
   ]
  },
  {
   "cell_type": "code",
   "execution_count": 16,
   "id": "4844e1b1",
   "metadata": {},
   "outputs": [
    {
     "name": "stdout",
     "output_type": "stream",
     "text": [
      "Model: DOF= 1 SM= 5621.000439560441 SM2= 5621.000439560441\n",
      "Error: DOF= 5 SR= 1095.9195604395604 SR2= 219.1839120879121\n",
      "Total: DOF= 6 ST= 6716.920000000002\n",
      "F-ratio: 25.64513237315485\n"
     ]
    }
   ],
   "source": [
    "SM=SOS(y_hat)\n",
    "print(\"Model: DOF= {} SM= {} SM2= {}\".format(p,SM,SM/p))\n",
    "print(\"Error: DOF= {} SR= {} SR2= {}\".format(n-p,SR,SR/(n-p)))\n",
    "print(\"Total: DOF= {} ST= {}\".format(n,SM+SR))\n",
    "print(\"F-ratio: {}\".format((SM/p)/(SR/(n-p))))"
   ]
  },
  {
   "cell_type": "code",
   "execution_count": null,
   "id": "cd5bcf60",
   "metadata": {},
   "outputs": [],
   "source": []
  }
 ],
 "metadata": {
  "kernelspec": {
   "display_name": "Python 3 (ipykernel)",
   "language": "python",
   "name": "python3"
  },
  "language_info": {
   "codemirror_mode": {
    "name": "ipython",
    "version": 3
   },
   "file_extension": ".py",
   "mimetype": "text/x-python",
   "name": "python",
   "nbconvert_exporter": "python",
   "pygments_lexer": "ipython3",
   "version": "3.9.13"
  }
 },
 "nbformat": 4,
 "nbformat_minor": 5
}
