{
 "cells": [
  {
   "cell_type": "code",
   "execution_count": 1,
   "id": "040856e7",
   "metadata": {},
   "outputs": [],
   "source": [
    "import numpy as np\n",
    "from itertools import product,combinations\n",
    "import matplotlib.pyplot as plt\n",
    "from math import log\n",
    "import scipy.stats"
   ]
  },
  {
   "cell_type": "markdown",
   "id": "160554a9",
   "metadata": {},
   "source": [
    "### major functions"
   ]
  },
  {
   "cell_type": "code",
   "execution_count": 2,
   "id": "a7046422",
   "metadata": {},
   "outputs": [],
   "source": [
    "def design_matrix(n):\n",
    "    D=[]\n",
    "    for i in product([-1,+1],repeat=n):\n",
    "        D.append(list(i))\n",
    "    return D"
   ]
  },
  {
   "cell_type": "code",
   "execution_count": 3,
   "id": "fc56033f",
   "metadata": {},
   "outputs": [],
   "source": [
    "def effect_matrix(d):\n",
    "    dm=np.flip(d,1)\n",
    "    (r,c)=np.shape(dm)\n",
    "    x=''\n",
    "    for i in range(c):\n",
    "        x+=str(i)\n",
    "    labels=[]\n",
    "    for i in range(c-1):\n",
    "        for j in combinations(x,i+2):\n",
    "            labels.append(list(map(int,j)))\n",
    "    for i in range(len(labels)):\n",
    "        I=np.full(r,1)\n",
    "        for j in labels[i]:\n",
    "            I=I*dm[:,j]\n",
    "        dm=np.insert(dm,np.shape(dm)[1],I,1)\n",
    "    return (dm,labels)"
   ]
  },
  {
   "cell_type": "code",
   "execution_count": 4,
   "id": "c629b440",
   "metadata": {},
   "outputs": [],
   "source": [
    "def effects(e,R):\n",
    "    avg=np.mean(R,axis=0)\n",
    "    e=e.astype('float64')\n",
    "    for i in range(len(e)):\n",
    "        for j in range(len(e[i])):\n",
    "            e[i][j]=e[i][j]*avg[i]\n",
    "    return e"
   ]
  },
  {
   "cell_type": "code",
   "execution_count": 5,
   "id": "0fa06414",
   "metadata": {},
   "outputs": [],
   "source": [
    "def eff_det(E,labels,R):\n",
    "    AVG=np.mean(R)\n",
    "    e=[(\"AVG\",AVG)]\n",
    "    labels2=[]\n",
    "    for i in labels[-1]:\n",
    "        labels2.append([i])\n",
    "    labels2.extend(labels)\n",
    "    (r,c)=np.shape(E)\n",
    "    for i in range(c):\n",
    "        e.append((l2str(labels2[i]),np.sum(E[:,i])/(2**(len(labels[-1])-1))))\n",
    "    if len(R)==2:\n",
    "        N=2*len(R[0])\n",
    "        s2=np.sum((R[0]-R[1])**2)/(2*len(R[0]))\n",
    "        V_eff=(4/N)*s2\n",
    "        sd_eff=np.sqrt(V_eff)\n",
    "        V_ave=(s2/N)\n",
    "        sd_ave=np.sqrt(V_ave)\n",
    "        return (e,sd_eff,sd_ave)\n",
    "    else:\n",
    "        return(e)\n",
    "    "
   ]
  },
  {
   "cell_type": "code",
   "execution_count": 6,
   "id": "62ab3d08",
   "metadata": {},
   "outputs": [],
   "source": [
    "def significants(eff_ints,sd_ave,sd_eff,DOF,a):\n",
    "    t_crit=scipy.stats.t.ppf(q=1-a,df=DOF)\n",
    "    sig=[]\n",
    "    if eff_ints[0][1]/sd_ave>=t_crit:\n",
    "        sig.append(eff_ints[0])\n",
    "    for i in range(1,len(eff_ints)):\n",
    "        if eff_ints[i][1]/sd_eff>=t_crit:\n",
    "            sig.append(eff_ints[i])\n",
    "    return sig"
   ]
  },
  {
   "cell_type": "code",
   "execution_count": 7,
   "id": "cb84680e",
   "metadata": {},
   "outputs": [],
   "source": [
    "def seq_eval(sig,seq=''): #,extremes):\n",
    "    if seq:\n",
    "        val=sig[0][1]\n",
    "        for i in range(len(seq)):\n",
    "            if seq[i]==\"+\":\n",
    "                val+=(sig[i+1][1]/2)*1 #extremes[i][1]\n",
    "            elif seq[i]==\"-\":\n",
    "                val+=(sig[i+1][1]/2)*(-1) #extremes[i][0]\n",
    "    return val            "
   ]
  },
  {
   "cell_type": "code",
   "execution_count": 8,
   "id": "0f0d253b",
   "metadata": {},
   "outputs": [],
   "source": [
    "def model_eval(sig,seq_list): #,extremes):\n",
    "    L=[]\n",
    "    for seq in seq_list:\n",
    "        L.append((seq,seq_eval(sig,seq)))\n",
    "    return L  "
   ]
  },
  {
   "cell_type": "code",
   "execution_count": 9,
   "id": "1ab8bec4",
   "metadata": {},
   "outputs": [],
   "source": [
    "#all main effects considered\n",
    "def model(dm,eff_ints,order=1): #,extremes):\n",
    "    n=log(len(dm),2)\n",
    "    est=[]\n",
    "    for i in range(len(dm)):\n",
    "        val=eff_ints[0][1]\n",
    "        for j in range(len(dm[i])):\n",
    "            val+=((eff_ints[j+1][1])/2)*dm[i][j] #extremes[j][1/0]\n",
    "        est.append(val)\n",
    "    return (est)"
   ]
  },
  {
   "cell_type": "code",
   "execution_count": 10,
   "id": "a72f1b31",
   "metadata": {},
   "outputs": [],
   "source": [
    "def resi(A,R):\n",
    "    avg=np.mean(R,axis=0)\n",
    "    res=[]\n",
    "    for i in range(len(avg)):\n",
    "        res.append(avg[i]-A[i])\n",
    "    return res"
   ]
  },
  {
   "cell_type": "code",
   "execution_count": 11,
   "id": "44b26dc8",
   "metadata": {},
   "outputs": [],
   "source": [
    "def prob_plot(A,label,title=''):\n",
    "    m=len(A)\n",
    "    Pi=[(100/m)*(i-0.5) for i in range(1,m+1)]\n",
    "    A.sort()\n",
    "    plt.scatter(A,Pi)\n",
    "    plt.axvline(x=0, c=\"black\")\n",
    "    plt.axhline(y=0, c=\"black\")\n",
    "    plt.ylabel(\"Probability\")\n",
    "    plt.xlabel(label)\n",
    "    plt.title(label+\" Vs \"+ \"Probability\"+title)"
   ]
  },
  {
   "cell_type": "markdown",
   "id": "1dba6faf",
   "metadata": {},
   "source": [
    "### minor functions"
   ]
  },
  {
   "cell_type": "code",
   "execution_count": 12,
   "id": "16850c50",
   "metadata": {},
   "outputs": [],
   "source": [
    "def l2str(A):\n",
    "    x=''\n",
    "    for i in A:\n",
    "        x+=str(i)\n",
    "    return x"
   ]
  },
  {
   "cell_type": "code",
   "execution_count": 13,
   "id": "6eae0711",
   "metadata": {},
   "outputs": [],
   "source": [
    "def dm2strL(dm):\n",
    "    L=[]\n",
    "    for i in range(len(dm)):\n",
    "        x=''\n",
    "        for j in range(len(dm[i])):\n",
    "            if dm[i][j]==1:\n",
    "                x+='+'\n",
    "            elif dm[i][j]==-1:\n",
    "                x+='-'\n",
    "        L.append(x)\n",
    "    return (L)"
   ]
  },
  {
   "cell_type": "code",
   "execution_count": null,
   "id": "c3c86653",
   "metadata": {},
   "outputs": [],
   "source": []
  },
  {
   "cell_type": "markdown",
   "id": "f6e9a968",
   "metadata": {},
   "source": [
    "### Model formation"
   ]
  },
  {
   "cell_type": "code",
   "execution_count": 14,
   "id": "fe00adb8",
   "metadata": {},
   "outputs": [
    {
     "data": {
      "text/plain": [
       "[('AVG', 0.4975),\n",
       " ('0', 0.21749999999999997),\n",
       " ('1', 0.0975),\n",
       " ('2', -0.1725),\n",
       " ('3', 0.002500000000000009),\n",
       " ('01', -0.0049999999999999906),\n",
       " ('02', 0.010000000000000023),\n",
       " ('03', -0.010000000000000016),\n",
       " ('12', -0.07500000000000004),\n",
       " ('13', -0.009999999999999988),\n",
       " ('23', 0.004999999999999984),\n",
       " ('012', 0.002500000000000016),\n",
       " ('013', 0.0024999999999999814),\n",
       " ('023', -0.007499999999999986),\n",
       " ('123', 0.01750000000000001),\n",
       " ('0123', 0.010000000000000016)]"
      ]
     },
     "execution_count": 14,
     "metadata": {},
     "output_type": "execute_result"
    }
   ],
   "source": [
    "R=np.array([[0.38,0.59,0.58,0.79,\n",
    "    0.27,0.53,0.30,0.53,\n",
    "    0.40,0.62,0.56,0.75,\n",
    "    0.30,0.50,0.32,0.54]])\n",
    "extremes=[(5,7),(40,45),(10,20),(150,180)]\n",
    "n=4\n",
    "A=design_matrix(n)\n",
    "A=np.array(A)\n",
    "E=effect_matrix(A)\n",
    "E1=effects(E[0],R)\n",
    "eff_ints=eff_det(E1,E[1],R)\n",
    "eff_ints"
   ]
  },
  {
   "cell_type": "markdown",
   "id": "5d823570",
   "metadata": {},
   "source": [
    "### ignoring higher order terms"
   ]
  },
  {
   "cell_type": "code",
   "execution_count": 15,
   "id": "b94ba3ac",
   "metadata": {},
   "outputs": [
    {
     "name": "stdout",
     "output_type": "stream",
     "text": [
      "s:  0.01949358868961794\n",
      "sd_avg:  0.004873397172404485\n"
     ]
    }
   ],
   "source": [
    "k=11  #order>3 terms insignificant\n",
    "sum=0\n",
    "for i in range(len(eff_ints[k:])):\n",
    "    sum+=(eff_ints[k:][i][1])**2\n",
    "s2effect=sum/len(eff_ints[k:])\n",
    "s2=((len(R[0]))/4)*s2effect\n",
    "s=np.sqrt(s2)\n",
    "sd_avg=np.sqrt(s2/len(R[0]))\n",
    "print(\"s: \",s)\n",
    "print(\"sd_avg: \",sd_avg)"
   ]
  },
  {
   "cell_type": "code",
   "execution_count": 16,
   "id": "50a1fe90",
   "metadata": {},
   "outputs": [
    {
     "data": {
      "text/plain": [
       "[('AVG', 0.4975), ('0', 0.21749999999999997), ('1', 0.0975)]"
      ]
     },
     "execution_count": 16,
     "metadata": {},
     "output_type": "execute_result"
    }
   ],
   "source": [
    "a=0.05\n",
    "DOF=len(eff_ints[k:])\n",
    "sig=significants(eff_ints,sd_avg,s,DOF,a)\n",
    "sig"
   ]
  },
  {
   "cell_type": "markdown",
   "id": "a5691527",
   "metadata": {},
   "source": [
    "### probability plot"
   ]
  },
  {
   "cell_type": "code",
   "execution_count": 17,
   "id": "82ea6cbd",
   "metadata": {},
   "outputs": [
    {
     "data": {
      "image/png": "[encoded data removed]",
      "text/plain": [
       "<Figure size 640x480 with 1 Axes>"
      ]
     },
     "metadata": {},
     "output_type": "display_data"
    }
   ],
   "source": [
    "prob_plot([eff_ints[i][1] for i in range(1,len(eff_ints))],label=\"Effects\")"
   ]
  },
  {
   "cell_type": "code",
   "execution_count": null,
   "id": "1af9754a",
   "metadata": {},
   "outputs": [],
   "source": []
  },
  {
   "cell_type": "code",
   "execution_count": null,
   "id": "24aedda1",
   "metadata": {},
   "outputs": [],
   "source": []
  },
  {
   "cell_type": "markdown",
   "id": "bd9cdbe7",
   "metadata": {},
   "source": [
    "### Residuals"
   ]
  },
  {
   "cell_type": "code",
   "execution_count": 18,
   "id": "3d142ed1",
   "metadata": {},
   "outputs": [],
   "source": [
    "B=design_matrix(len(sig)-1)\n",
    "seq_list=dm2strL(B)"
   ]
  },
  {
   "cell_type": "code",
   "execution_count": 19,
   "id": "cf13cc9d",
   "metadata": {},
   "outputs": [
    {
     "data": {
      "text/plain": [
       "[('--', 0.34),\n",
       " ('-+', 0.43750000000000006),\n",
       " ('+-', 0.5575),\n",
       " ('++', 0.6549999999999999)]"
      ]
     },
     "execution_count": 19,
     "metadata": {},
     "output_type": "execute_result"
    }
   ],
   "source": [
    "L=model_eval(sig,seq_list)\n",
    "L"
   ]
  },
  {
   "cell_type": "code",
   "execution_count": 20,
   "id": "0c96dcb1",
   "metadata": {},
   "outputs": [
    {
     "data": {
      "text/plain": [
       "'\\nresiduals=resi(A,R) #fill manually\\nresiduals\\n\\n'"
      ]
     },
     "execution_count": 20,
     "metadata": {},
     "output_type": "execute_result"
    }
   ],
   "source": [
    "\"\"\"\n",
    "residuals=resi(A,R) #fill manually\n",
    "residuals\n",
    "\n",
    "\"\"\""
   ]
  },
  {
   "cell_type": "code",
   "execution_count": 21,
   "id": "073740e8",
   "metadata": {},
   "outputs": [
    {
     "data": {
      "text/plain": [
       "\"\\nprob_plot(residuals,'Residuals')\\n\\n\""
      ]
     },
     "execution_count": 21,
     "metadata": {},
     "output_type": "execute_result"
    }
   ],
   "source": [
    "\"\"\"\n",
    "prob_plot(residuals,'Residuals')\n",
    "\n",
    "\"\"\""
   ]
  },
  {
   "cell_type": "code",
   "execution_count": 22,
   "id": "4d678f06",
   "metadata": {},
   "outputs": [
    {
     "data": {
      "text/plain": [
       "[-0.044999999999999984,\n",
       " 0.16249999999999992,\n",
       " 0.32749999999999996,\n",
       " 0.5349999999999999,\n",
       " -0.25250000000000006,\n",
       " 0.0050000000000000044,\n",
       " -0.050000000000000044,\n",
       " 0.17749999999999994,\n",
       " -0.24250000000000005,\n",
       " -0.025000000000000022,\n",
       " 0.09000000000000008,\n",
       " 0.27749999999999997,\n",
       " -0.44,\n",
       " -0.24249999999999994,\n",
       " -0.2474999999999999,\n",
       " -0.029999999999999805]"
      ]
     },
     "execution_count": 22,
     "metadata": {},
     "output_type": "execute_result"
    }
   ],
   "source": [
    "#all main effects considered\n",
    "M=model(A,eff_ints) #,extremes)\n",
    "residuals=resi(M,R)\n",
    "residuals"
   ]
  },
  {
   "cell_type": "code",
   "execution_count": 23,
   "id": "284427a1",
   "metadata": {},
   "outputs": [
    {
     "data": {
      "image/png": "[encoded data removed]",
      "text/plain": [
       "<Figure size 640x480 with 1 Axes>"
      ]
     },
     "metadata": {},
     "output_type": "display_data"
    }
   ],
   "source": [
    "prob_plot(residuals,'Residuals',title=\"(all main effects)\")"
   ]
  },
  {
   "cell_type": "code",
   "execution_count": 24,
   "id": "085a657c",
   "metadata": {},
   "outputs": [
    {
     "data": {
      "text/plain": [
       "(array([[-1, -1, -1, -1,  1,  1,  1,  1,  1,  1, -1, -1, -1, -1,  1],\n",
       "        [ 1, -1, -1, -1, -1, -1, -1,  1,  1,  1,  1,  1,  1, -1, -1],\n",
       "        [-1,  1, -1, -1, -1,  1,  1, -1, -1,  1,  1,  1, -1,  1, -1],\n",
       "        [ 1,  1, -1, -1,  1, -1, -1, -1, -1,  1, -1, -1,  1,  1,  1],\n",
       "        [-1, -1,  1, -1,  1, -1,  1, -1,  1, -1,  1, -1,  1,  1, -1],\n",
       "        [ 1, -1,  1, -1, -1,  1, -1, -1,  1, -1, -1,  1, -1,  1,  1],\n",
       "        [-1,  1,  1, -1, -1, -1,  1,  1, -1, -1, -1,  1,  1, -1,  1],\n",
       "        [ 1,  1,  1, -1,  1,  1, -1,  1, -1, -1,  1, -1, -1, -1, -1],\n",
       "        [-1, -1, -1,  1,  1,  1, -1,  1, -1, -1, -1,  1,  1,  1, -1],\n",
       "        [ 1, -1, -1,  1, -1, -1,  1,  1, -1, -1,  1, -1, -1,  1,  1],\n",
       "        [-1,  1, -1,  1, -1,  1, -1, -1,  1, -1,  1, -1,  1, -1,  1],\n",
       "        [ 1,  1, -1,  1,  1, -1,  1, -1,  1, -1, -1,  1, -1, -1, -1],\n",
       "        [-1, -1,  1,  1,  1, -1, -1, -1, -1,  1,  1,  1, -1, -1,  1],\n",
       "        [ 1, -1,  1,  1, -1,  1,  1, -1, -1,  1, -1, -1,  1, -1, -1],\n",
       "        [-1,  1,  1,  1, -1, -1, -1,  1,  1,  1, -1, -1, -1,  1, -1],\n",
       "        [ 1,  1,  1,  1,  1,  1,  1,  1,  1,  1,  1,  1,  1,  1,  1]]),\n",
       " [[0, 1],\n",
       "  [0, 2],\n",
       "  [0, 3],\n",
       "  [1, 2],\n",
       "  [1, 3],\n",
       "  [2, 3],\n",
       "  [0, 1, 2],\n",
       "  [0, 1, 3],\n",
       "  [0, 2, 3],\n",
       "  [1, 2, 3],\n",
       "  [0, 1, 2, 3]])"
      ]
     },
     "execution_count": 24,
     "metadata": {},
     "output_type": "execute_result"
    }
   ],
   "source": [
    "E"
   ]
  },
  {
   "cell_type": "code",
   "execution_count": null,
   "id": "d1023395",
   "metadata": {},
   "outputs": [],
   "source": []
  }
 ],
 "metadata": {
  "kernelspec": {
   "display_name": "Python 3 (ipykernel)",
   "language": "python",
   "name": "python3"
  },
  "language_info": {
   "codemirror_mode": {
    "name": "ipython",
    "version": 3
   },
   "file_extension": ".py",
   "mimetype": "text/x-python",
   "name": "python",
   "nbconvert_exporter": "python",
   "pygments_lexer": "ipython3",
   "version": "3.9.13"
  }
 },
 "nbformat": 4,
 "nbformat_minor": 5
}
