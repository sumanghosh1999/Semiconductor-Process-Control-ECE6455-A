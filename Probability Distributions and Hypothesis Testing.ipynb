{
 "cells": [
  {
   "cell_type": "code",
   "execution_count": 1,
   "id": "2031f366",
   "metadata": {},
   "outputs": [],
   "source": [
    "import math"
   ]
  },
  {
   "cell_type": "code",
   "execution_count": 2,
   "id": "eb105fbe",
   "metadata": {},
   "outputs": [],
   "source": [
    "def nCr(n,r):\n",
    "    return math.factorial(n)/(math.factorial(n-r)*math.factorial(r))"
   ]
  },
  {
   "cell_type": "code",
   "execution_count": 3,
   "id": "b1fcbb65",
   "metadata": {},
   "outputs": [],
   "source": [
    "def Binomial(n,p,x):\n",
    "    return (nCr(n,x)*(p**x)*((1-p)**(n-x)))"
   ]
  },
  {
   "cell_type": "code",
   "execution_count": 4,
   "id": "aaaed834",
   "metadata": {},
   "outputs": [],
   "source": [
    "def Poisson(mean,x):\n",
    "    return (math.exp(-mean)*(mean**x)/(math.factorial(x)))"
   ]
  },
  {
   "cell_type": "code",
   "execution_count": 5,
   "id": "ef57f631",
   "metadata": {},
   "outputs": [],
   "source": [
    "def Hypergeometric(N,D,n,x):\n",
    "    return (nCr(D,x)*nCr(N-D,n-x)/nCr(N,n))"
   ]
  },
  {
   "cell_type": "code",
   "execution_count": 6,
   "id": "d40cb789",
   "metadata": {},
   "outputs": [
    {
     "data": {
      "text/plain": [
       "7.240788684135509e-05"
      ]
     },
     "execution_count": 6,
     "metadata": {},
     "output_type": "execute_result"
    }
   ],
   "source": [
    "ans=0\n",
    "for i in range(2):\n",
    "    ans+=Binomial(75,0.15,i)\n",
    "ans    "
   ]
  },
  {
   "cell_type": "code",
   "execution_count": 7,
   "id": "f1c31216",
   "metadata": {},
   "outputs": [
    {
     "data": {
      "text/plain": [
       "59"
      ]
     },
     "execution_count": 7,
     "metadata": {},
     "output_type": "execute_result"
    }
   ],
   "source": [
    "n=5\n",
    "p=1\n",
    "while p>0.05:\n",
    "    ans=0\n",
    "    for i in range(5):\n",
    "        ans+=Binomial(n,0.15,i)\n",
    "    p=ans\n",
    "    n+=1\n",
    "n-1"
   ]
  },
  {
   "cell_type": "code",
   "execution_count": 8,
   "id": "7367650a",
   "metadata": {},
   "outputs": [
    {
     "data": {
      "text/plain": [
       "0.01831563888873418"
      ]
     },
     "execution_count": 8,
     "metadata": {},
     "output_type": "execute_result"
    }
   ],
   "source": [
    "Poisson(4,0)"
   ]
  },
  {
   "cell_type": "code",
   "execution_count": 9,
   "id": "10936b3a",
   "metadata": {},
   "outputs": [],
   "source": [
    "def red_cols(mean,c,a,x):\n",
    "    mean=mean*(1+(c*a/100))\n",
    "    return Poisson(mean,x)"
   ]
  },
  {
   "cell_type": "code",
   "execution_count": 10,
   "id": "a621b067",
   "metadata": {},
   "outputs": [
    {
     "data": {
      "text/plain": [
       "4"
      ]
     },
     "execution_count": 10,
     "metadata": {},
     "output_type": "execute_result"
    }
   ],
   "source": [
    "c=1\n",
    "p=0.4\n",
    "while p<0.5:\n",
    "    ans=0\n",
    "    for x in range(c+1):\n",
    "        ans+=red_cols(4,c,1,x)\n",
    "    p=ans\n",
    "    c+=1\n",
    "c-1"
   ]
  },
  {
   "cell_type": "code",
   "execution_count": 11,
   "id": "ca4a9904",
   "metadata": {},
   "outputs": [],
   "source": [
    "def SRAM(M,N_bit,N,F_bit,x):\n",
    "    F_word=1-(1-F_bit)**N\n",
    "    wL=int(N_bit/N)\n",
    "    ans=nCr(wL+M,x)*(F_word**x)*((1-F_word)**(wL+M-x))\n",
    "    return ans"
   ]
  },
  {
   "cell_type": "code",
   "execution_count": 12,
   "id": "36ef5165",
   "metadata": {},
   "outputs": [
    {
     "data": {
      "text/plain": [
       "7"
      ]
     },
     "execution_count": 12,
     "metadata": {},
     "output_type": "execute_result"
    }
   ],
   "source": [
    "M=1\n",
    "p=0.8\n",
    "while p<=0.9:\n",
    "    ans=0\n",
    "    for i in range(M+1):\n",
    "        ans+=SRAM(M+1,4096,64,0.001,i)\n",
    "    p=round(ans,2)\n",
    "    M+=1\n",
    "M-1"
   ]
  },
  {
   "cell_type": "code",
   "execution_count": 13,
   "id": "9a6245dd",
   "metadata": {},
   "outputs": [
    {
     "data": {
      "text/plain": [
       "0.9998446273708449"
      ]
     },
     "execution_count": 13,
     "metadata": {},
     "output_type": "execute_result"
    }
   ],
   "source": [
    "ans=0\n",
    "for i in range(3):\n",
    "    ans+=Binomial(11,0.01,i)\n",
    "ans"
   ]
  },
  {
   "cell_type": "markdown",
   "id": "e4d7c6d3",
   "metadata": {},
   "source": [
    "### Confidence Intervals"
   ]
  },
  {
   "cell_type": "code",
   "execution_count": 14,
   "id": "ef1090f4",
   "metadata": {},
   "outputs": [],
   "source": [
    "def mean_var(z,sigma,n):\n",
    "    return (z*(sig/(n)**0.5))"
   ]
  },
  {
   "cell_type": "code",
   "execution_count": 15,
   "id": "11296aaa",
   "metadata": {},
   "outputs": [],
   "source": [
    "def mean_novar(t,s,n):\n",
    "    return (t*(s/(n)**0.5))"
   ]
  },
  {
   "cell_type": "code",
   "execution_count": 16,
   "id": "ba4ac5e2",
   "metadata": {},
   "outputs": [],
   "source": [
    "def var(chisq,s,n):\n",
    "    return (((n-1)*s**2)/chisq)"
   ]
  },
  {
   "cell_type": "code",
   "execution_count": 17,
   "id": "a470922a",
   "metadata": {},
   "outputs": [],
   "source": [
    "def diff_mean_var(z,sig1,sig2,n1,n2):\n",
    "    return (z*(((sig1**2)/n1)+((sig2**2)/n2))**0.5)"
   ]
  },
  {
   "cell_type": "code",
   "execution_count": 18,
   "id": "8fa2789e",
   "metadata": {},
   "outputs": [],
   "source": [
    "def diff_mean_novar(t,s1,s2,n1,n2):\n",
    "    sp2=((n1-1)*s1**2+(n2-1)*s2**2)/(n1+n2-2)\n",
    "    sp=sp2**0.5\n",
    "    ans=t*sp*(((1/n1)+(1/n2))**0.5)\n",
    "    return (sp2,ans)"
   ]
  },
  {
   "cell_type": "code",
   "execution_count": 19,
   "id": "7205cc78",
   "metadata": {},
   "outputs": [],
   "source": [
    "def ratio_var(F,s1,s2):\n",
    "    rat=s1**2/s2**2\n",
    "    return (rat*(1/F),rat*F)"
   ]
  },
  {
   "cell_type": "markdown",
   "id": "5b7208e5",
   "metadata": {},
   "source": [
    "### Hypothesis Testing"
   ]
  },
  {
   "cell_type": "code",
   "execution_count": 20,
   "id": "013a4703",
   "metadata": {},
   "outputs": [],
   "source": [
    "def z0_var(x_bar,mu,sigma,n):\n",
    "    return ((x_bar-mu)/(sigma/(n**0.5)))"
   ]
  },
  {
   "cell_type": "code",
   "execution_count": 21,
   "id": "8eb0779b",
   "metadata": {},
   "outputs": [],
   "source": [
    "def z0_novar(x1_bar,x2_bar,sig1,sig2,n1,n2):\n",
    "    return ((x1_bar-x2_bar)/(((sig1**2)/n1)+((sig2**2)/n2))**0.5)"
   ]
  },
  {
   "cell_type": "code",
   "execution_count": 22,
   "id": "6d611903",
   "metadata": {},
   "outputs": [],
   "source": [
    "def t0_novar(x_bar,mu,s,n):\n",
    "    return ((x_bar-mu)/(s/(n**0.5)))"
   ]
  },
  {
   "cell_type": "code",
   "execution_count": 23,
   "id": "c5f10094",
   "metadata": {},
   "outputs": [],
   "source": [
    "def t0_novar_comp_eq(x1_bar,x2_bar,s1,s2,n1,n2):\n",
    "    sp2=((n1-1)*s1**2+(n2-1)*s2**2)/(n1+n2-2)\n",
    "    sp=sp2**0.5\n",
    "    ans=(x1_bar-x2_bar)/(sp*(((1/n1)+(1/n2))**0.5))\n",
    "    return (sp2,ans)"
   ]
  },
  {
   "cell_type": "code",
   "execution_count": 24,
   "id": "6849a0a7",
   "metadata": {},
   "outputs": [],
   "source": [
    "def t0_novar_comp_noteq(x1_bar,x2_bar,s1,s2,n1,n2):\n",
    "    DOF=((((s1**2/n1)+(s2**2/n2))**2)/(((s1**2/n1)**2/(n1+1))+((s2**2/n2)**2/(n2+1))))-2\n",
    "    ans=(x1_bar-x2_bar)/(((s1**2/n1)+(s2**2/n2))**0.5)\n",
    "    return (ans,DOF)"
   ]
  },
  {
   "cell_type": "code",
   "execution_count": 25,
   "id": "88891361",
   "metadata": {},
   "outputs": [],
   "source": [
    "def chi0(s,sigma0,n):\n",
    "    return (((n-1)*s**2)/sigma0**2)"
   ]
  },
  {
   "cell_type": "code",
   "execution_count": 26,
   "id": "b58a00b5",
   "metadata": {},
   "outputs": [],
   "source": [
    "def F0(s1,s2):\n",
    "    return (s1**2/s2**2)"
   ]
  },
  {
   "cell_type": "code",
   "execution_count": 27,
   "id": "d7f087d1",
   "metadata": {},
   "outputs": [
    {
     "data": {
      "text/plain": [
       "(149.38625000000002, -4.605371717980028)"
      ]
     },
     "execution_count": 27,
     "metadata": {},
     "output_type": "execute_result"
    }
   ],
   "source": [
    "t0_novar_comp_eq(22.6,58.2,11.23,13.14,5,5)"
   ]
  },
  {
   "cell_type": "code",
   "execution_count": null,
   "id": "8ad6bc79",
   "metadata": {},
   "outputs": [],
   "source": []
  }
 ],
 "metadata": {
  "kernelspec": {
   "display_name": "Python 3 (ipykernel)",
   "language": "python",
   "name": "python3"
  },
  "language_info": {
   "codemirror_mode": {
    "name": "ipython",
    "version": 3
   },
   "file_extension": ".py",
   "mimetype": "text/x-python",
   "name": "python",
   "nbconvert_exporter": "python",
   "pygments_lexer": "ipython3",
   "version": "3.9.13"
  }
 },
 "nbformat": 4,
 "nbformat_minor": 5
}
