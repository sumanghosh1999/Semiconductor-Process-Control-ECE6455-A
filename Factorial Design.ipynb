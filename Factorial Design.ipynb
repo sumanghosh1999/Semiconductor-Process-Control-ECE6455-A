{
 "cells": [
  {
   "cell_type": "code",
   "execution_count": 1,
   "id": "040856e7",
   "metadata": {},
   "outputs": [],
   "source": [
    "import numpy as np\n",
    "from itertools import product,combinations\n",
    "import matplotlib.pyplot as plt\n",
    "from math import log\n",
    "import scipy.stats"
   ]
  },
  {
   "cell_type": "markdown",
   "id": "160554a9",
   "metadata": {},
   "source": [
    "### major functions"
   ]
  },
  {
   "cell_type": "code",
   "execution_count": 2,
   "id": "a7046422",
   "metadata": {},
   "outputs": [],
   "source": [
    "def design_matrix(n):\n",
    "    D=[]\n",
    "    for i in product([-1,+1],repeat=n):\n",
    "        D.append(list(i))\n",
    "    return D"
   ]
  },
  {
   "cell_type": "code",
   "execution_count": 3,
   "id": "fc56033f",
   "metadata": {},
   "outputs": [],
   "source": [
    "def effect_matrix(d):\n",
    "    dm=np.flip(d,1)\n",
    "    (r,c)=np.shape(dm)\n",
    "    x=''\n",
    "    for i in range(c):\n",
    "        x+=str(i)\n",
    "    labels=[]\n",
    "    for i in range(c-1):\n",
    "        for j in combinations(x,i+2):\n",
    "            labels.append(list(map(int,j)))\n",
    "    for i in range(len(labels)):\n",
    "        I=np.full(r,1)\n",
    "        for j in labels[i]:\n",
    "            I=I*dm[:,j]\n",
    "        dm=np.insert(dm,np.shape(dm)[1],I,1)\n",
    "    return (dm,labels)"
   ]
  },
  {
   "cell_type": "code",
   "execution_count": 4,
   "id": "c629b440",
   "metadata": {},
   "outputs": [],
   "source": [
    "def effects(e,R):\n",
    "    avg=np.mean(R,axis=0)\n",
    "    e=e.astype('float64')\n",
    "    for i in range(len(e)):\n",
    "        for j in range(len(e[i])):\n",
    "            e[i][j]=e[i][j]*avg[i]\n",
    "    return e"
   ]
  },
  {
   "cell_type": "code",
   "execution_count": 5,
   "id": "0fa06414",
   "metadata": {},
   "outputs": [],
   "source": [
    "def eff_det(E,labels,R):\n",
    "    AVG=np.mean(R)\n",
    "    e=[(\"AVG\",AVG)]\n",
    "    labels2=[]\n",
    "    for i in labels[-1]:\n",
    "        labels2.append([i])\n",
    "    labels2.extend(labels)\n",
    "    (r,c)=np.shape(E)\n",
    "    for i in range(c):\n",
    "        e.append((l2str(labels2[i]),np.sum(E[:,i])/(2**(len(labels[-1])-1))))\n",
    "    if len(R)==2:\n",
    "        N=2*len(R[0])\n",
    "        s2=np.sum((R[0]-R[1])**2)/(2*len(R[0]))\n",
    "        V_eff=(4/N)*s2\n",
    "        sd_eff=np.sqrt(V_eff)\n",
    "        V_ave=(s2/N)\n",
    "        sd_ave=np.sqrt(V_ave)\n",
    "    return (e,sd_eff,sd_ave)"
   ]
  },
  {
   "cell_type": "code",
   "execution_count": 6,
   "id": "62ab3d08",
   "metadata": {},
   "outputs": [],
   "source": [
    "def significants(eff_ints,sd_ave,sd_eff,a):\n",
    "    t_crit=scipy.stats.t.ppf(q=1-a,df=len(eff_ints))\n",
    "    sig=[]\n",
    "    if eff_ints[0][1]/sd_ave>=t_crit:\n",
    "        sig.append(eff_ints[0])\n",
    "    for i in range(1,len(eff_ints)):\n",
    "        if eff_ints[i][1]/sd_eff>=t_crit:\n",
    "            sig.append(eff_ints[i])\n",
    "    return sig"
   ]
  },
  {
   "cell_type": "code",
   "execution_count": 7,
   "id": "cb84680e",
   "metadata": {},
   "outputs": [],
   "source": [
    "def seq_eval(sig,seq=''): #,extremes):\n",
    "    if seq:\n",
    "        val=sig[0][1]\n",
    "        for i in range(len(seq)):\n",
    "            if seq[i]==\"+\":\n",
    "                val+=(sig[i+1][1]/2)*1 #extremes[i][1]\n",
    "            elif seq[i]==\"-\":\n",
    "                val+=(sig[i+1][1]/2)*(-1) #extremes[i][0]\n",
    "    return val            "
   ]
  },
  {
   "cell_type": "code",
   "execution_count": 8,
   "id": "0f0d253b",
   "metadata": {},
   "outputs": [],
   "source": [
    "def model_eval(sig,seq_list): #,extremes):\n",
    "    L=[]\n",
    "    for seq in seq_list:\n",
    "        L.append((seq,seq_eval(sig,seq)))\n",
    "    return L  "
   ]
  },
  {
   "cell_type": "code",
   "execution_count": 9,
   "id": "1ab8bec4",
   "metadata": {},
   "outputs": [],
   "source": [
    "#all main effects considered\n",
    "def model(dm,eff_ints,order=1): #,extremes):\n",
    "    n=log(len(dm),2)\n",
    "    est=[]\n",
    "    for i in range(len(dm)):\n",
    "        val=eff_ints[0][1]\n",
    "        for j in range(len(dm[i])):\n",
    "            val+=((eff_ints[j+1][1])/2)*dm[i][j] #extremes[j][1/0]\n",
    "        est.append(val)\n",
    "    return (est)"
   ]
  },
  {
   "cell_type": "code",
   "execution_count": 10,
   "id": "a72f1b31",
   "metadata": {},
   "outputs": [],
   "source": [
    "def resi(A,R):\n",
    "    avg=np.mean(R,axis=0)\n",
    "    res=[]\n",
    "    for i in range(len(avg)):\n",
    "        res.append(avg[i]-A[i])\n",
    "    return res"
   ]
  },
  {
   "cell_type": "code",
   "execution_count": 11,
   "id": "44b26dc8",
   "metadata": {},
   "outputs": [],
   "source": [
    "def prob_plot(A,label,title=''):\n",
    "    m=len(A)\n",
    "    Pi=[(100/m)*(i-0.5) for i in range(1,m+1)]\n",
    "    A.sort()\n",
    "    plt.scatter(A,Pi)\n",
    "    plt.axvline(x=0, c=\"black\")\n",
    "    plt.axhline(y=0, c=\"black\")\n",
    "    plt.xlabel(\"Probability\")\n",
    "    plt.ylabel(label)\n",
    "    plt.title(label+\" Vs \"+ \"Probability\"+title)"
   ]
  },
  {
   "cell_type": "markdown",
   "id": "1dba6faf",
   "metadata": {},
   "source": [
    "### minor functions"
   ]
  },
  {
   "cell_type": "code",
   "execution_count": 12,
   "id": "16850c50",
   "metadata": {},
   "outputs": [],
   "source": [
    "def l2str(A):\n",
    "    x=''\n",
    "    for i in A:\n",
    "        x+=str(i)\n",
    "    return x"
   ]
  },
  {
   "cell_type": "code",
   "execution_count": 13,
   "id": "6eae0711",
   "metadata": {},
   "outputs": [],
   "source": [
    "def dm2strL(dm):\n",
    "    L=[]\n",
    "    for i in range(len(dm)):\n",
    "        x=''\n",
    "        for j in range(len(dm[i])):\n",
    "            if dm[i][j]==1:\n",
    "                x+='+'\n",
    "            elif dm[i][j]==-1:\n",
    "                x+='-'\n",
    "        L.append(x)\n",
    "    return (L)"
   ]
  },
  {
   "cell_type": "code",
   "execution_count": null,
   "id": "c3c86653",
   "metadata": {},
   "outputs": [],
   "source": []
  },
  {
   "cell_type": "markdown",
   "id": "f6e9a968",
   "metadata": {},
   "source": [
    "### Model formation"
   ]
  },
  {
   "cell_type": "code",
   "execution_count": 14,
   "id": "fe00adb8",
   "metadata": {},
   "outputs": [
    {
     "data": {
      "text/plain": [
       "[('AVG', 6.679375),\n",
       " ('0', 5.34125),\n",
       " ('1', -1.0387500000000003),\n",
       " ('2', 5.37875),\n",
       " ('01', -1.1112500000000005),\n",
       " ('02', 6.601249999999999),\n",
       " ('12', 1.4412500000000001),\n",
       " ('012', -1.2112500000000002)]"
      ]
     },
     "execution_count": 14,
     "metadata": {},
     "output_type": "execute_result"
    }
   ],
   "source": [
    "R=np.array([[7.28,5.03,2.64,2.30,2.54,19.25,5.21,14.41],\n",
    "            [4.54,4.07,4.02,2.04,1.53,13.35,4.31,14.35]])\n",
    "\n",
    "n=3\n",
    "A=design_matrix(n)\n",
    "A=np.array(A)\n",
    "E=effect_matrix(A)\n",
    "E1=effects(E[0],R)\n",
    "(eff_ints,sd_eff,sd_ave)=eff_det(E1,E[1],R)\n",
    "eff_ints"
   ]
  },
  {
   "cell_type": "code",
   "execution_count": 15,
   "id": "97b5b759",
   "metadata": {},
   "outputs": [
    {
     "data": {
      "text/plain": [
       "(array([[-1, -1, -1,  1,  1,  1, -1],\n",
       "        [ 1, -1, -1, -1, -1,  1,  1],\n",
       "        [-1,  1, -1, -1,  1, -1,  1],\n",
       "        [ 1,  1, -1,  1, -1, -1, -1],\n",
       "        [-1, -1,  1,  1, -1, -1,  1],\n",
       "        [ 1, -1,  1, -1,  1, -1, -1],\n",
       "        [-1,  1,  1, -1, -1,  1, -1],\n",
       "        [ 1,  1,  1,  1,  1,  1,  1]]),\n",
       " [[0, 1], [0, 2], [1, 2], [0, 1, 2]])"
      ]
     },
     "execution_count": 15,
     "metadata": {},
     "output_type": "execute_result"
    }
   ],
   "source": [
    "E #effect matrix"
   ]
  },
  {
   "cell_type": "code",
   "execution_count": null,
   "id": "56ce45e2",
   "metadata": {},
   "outputs": [],
   "source": []
  },
  {
   "cell_type": "code",
   "execution_count": 16,
   "id": "25a2a3ea",
   "metadata": {},
   "outputs": [
    {
     "data": {
      "text/plain": [
       "0.8573660609681257"
      ]
     },
     "execution_count": 16,
     "metadata": {},
     "output_type": "execute_result"
    }
   ],
   "source": [
    "sd_eff"
   ]
  },
  {
   "cell_type": "code",
   "execution_count": 17,
   "id": "d6633c53",
   "metadata": {},
   "outputs": [
    {
     "data": {
      "text/plain": [
       "0.42868303048406287"
      ]
     },
     "execution_count": 17,
     "metadata": {},
     "output_type": "execute_result"
    }
   ],
   "source": [
    "sd_ave"
   ]
  },
  {
   "cell_type": "code",
   "execution_count": 18,
   "id": "50a1fe90",
   "metadata": {},
   "outputs": [
    {
     "data": {
      "text/plain": [
       "[('AVG', 6.679375), ('0', 5.34125), ('2', 5.37875), ('02', 6.601249999999999)]"
      ]
     },
     "execution_count": 18,
     "metadata": {},
     "output_type": "execute_result"
    }
   ],
   "source": [
    "a=0.05\n",
    "sig=significants(eff_ints,sd_ave,sd_eff,a)\n",
    "sig"
   ]
  },
  {
   "cell_type": "markdown",
   "id": "bd9cdbe7",
   "metadata": {},
   "source": [
    "### Residuals"
   ]
  },
  {
   "cell_type": "code",
   "execution_count": 19,
   "id": "3d142ed1",
   "metadata": {},
   "outputs": [],
   "source": [
    "B=design_matrix(len(sig)-1)\n",
    "seq_list=dm2strL(B)"
   ]
  },
  {
   "cell_type": "code",
   "execution_count": 20,
   "id": "cf13cc9d",
   "metadata": {},
   "outputs": [
    {
     "data": {
      "text/plain": [
       "[('---', -1.9812499999999988),\n",
       " ('--+', 4.620000000000001),\n",
       " ('-+-', 3.3975000000000013),\n",
       " ('-++', 9.998750000000001),\n",
       " ('+--', 3.36),\n",
       " ('+-+', 9.96125),\n",
       " ('++-', 8.73875),\n",
       " ('+++', 15.34)]"
      ]
     },
     "execution_count": 20,
     "metadata": {},
     "output_type": "execute_result"
    }
   ],
   "source": [
    "L=model_eval(sig,seq_list)\n",
    "L"
   ]
  },
  {
   "cell_type": "code",
   "execution_count": 21,
   "id": "0c96dcb1",
   "metadata": {},
   "outputs": [
    {
     "data": {
      "text/plain": [
       "'\\nresiduals=resi(A,R) #fill manually\\nresiduals\\n\\n'"
      ]
     },
     "execution_count": 21,
     "metadata": {},
     "output_type": "execute_result"
    }
   ],
   "source": [
    "\"\"\"\n",
    "residuals=resi(A,R) #fill manually\n",
    "residuals\n",
    "\n",
    "\"\"\""
   ]
  },
  {
   "cell_type": "code",
   "execution_count": 22,
   "id": "073740e8",
   "metadata": {},
   "outputs": [
    {
     "data": {
      "text/plain": [
       "\"\\nprob_plot(residuals,'Residuals')\\n\\n\""
      ]
     },
     "execution_count": 22,
     "metadata": {},
     "output_type": "execute_result"
    }
   ],
   "source": [
    "\"\"\"\n",
    "prob_plot(residuals,'Residuals')\n",
    "\n",
    "\"\"\""
   ]
  },
  {
   "cell_type": "code",
   "execution_count": 23,
   "id": "4d678f06",
   "metadata": {},
   "outputs": [
    {
     "data": {
      "text/plain": [
       "[4.071249999999999,\n",
       " -2.6675000000000004,\n",
       " 2.5299999999999994,\n",
       " -4.008750000000001,\n",
       " -5.145,\n",
       " 3.741250000000001,\n",
       " -1.3812499999999996,\n",
       " 2.8599999999999994]"
      ]
     },
     "execution_count": 23,
     "metadata": {},
     "output_type": "execute_result"
    }
   ],
   "source": [
    "#all main effects considered\n",
    "M=model(A,eff_ints) #,extremes)\n",
    "residuals=resi(M,R)\n",
    "residuals"
   ]
  },
  {
   "cell_type": "code",
   "execution_count": 24,
   "id": "284427a1",
   "metadata": {
    "scrolled": true
   },
   "outputs": [
    {
     "data": {
      "image/png": "[encoded data removed]",
      "text/plain": [
       "<Figure size 640x480 with 1 Axes>"
      ]
     },
     "metadata": {},
     "output_type": "display_data"
    }
   ],
   "source": [
    "prob_plot(residuals,'Residuals',title=\"(all main effects)\")"
   ]
  },
  {
   "cell_type": "code",
   "execution_count": null,
   "id": "d797f54f",
   "metadata": {},
   "outputs": [],
   "source": []
  }
 ],
 "metadata": {
  "kernelspec": {
   "display_name": "Python 3 (ipykernel)",
   "language": "python",
   "name": "python3"
  },
  "language_info": {
   "codemirror_mode": {
    "name": "ipython",
    "version": 3
   },
   "file_extension": ".py",
   "mimetype": "text/x-python",
   "name": "python",
   "nbconvert_exporter": "python",
   "pygments_lexer": "ipython3",
   "version": "3.9.13"
  }
 },
 "nbformat": 4,
 "nbformat_minor": 5
}
